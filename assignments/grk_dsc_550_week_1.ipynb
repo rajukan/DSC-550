{
 "cells": [
  {
   "cell_type": "code",
   "id": "59591c26",
   "metadata": {
    "ExecuteTime": {
     "end_time": "2024-10-06T14:17:35.903173Z",
     "start_time": "2024-10-06T14:17:35.894846Z"
    }
   },
   "source": [
    "# DSC 550 - Data Mining\n",
    "# Week 1 - Exploring Data\n",
    "# Exercise: Exploring a Pandas Data Frame"
   ],
   "outputs": [],
   "execution_count": 22
  },
  {
   "cell_type": "code",
   "id": "b2499fa0",
   "metadata": {
    "ExecuteTime": {
     "end_time": "2024-10-06T14:17:35.984790Z",
     "start_time": "2024-10-06T14:17:35.979084Z"
    }
   },
   "source": [
    "# We have downloaded the video game sales with ratings dataset and saved it in a gitbub repository\n",
    "url = \"./datasets/Video_Games_Sales_as_at_22_Dec_2016.csv\""
   ],
   "outputs": [],
   "execution_count": 23
  },
  {
   "cell_type": "code",
   "id": "3ebf25ee",
   "metadata": {
    "ExecuteTime": {
     "end_time": "2024-10-06T14:17:36.039928Z",
     "start_time": "2024-10-06T14:17:35.986999Z"
    }
   },
   "source": [
    "# 1- Load the dataset as a Pandas data frame.\n",
    "import pandas as pd\n",
    "videogame_df = pd.read_csv(url)"
   ],
   "outputs": [],
   "execution_count": 24
  },
  {
   "cell_type": "code",
   "id": "8b0e73de",
   "metadata": {
    "ExecuteTime": {
     "end_time": "2024-10-06T14:17:36.048812Z",
     "start_time": "2024-10-06T14:17:36.039928Z"
    }
   },
   "source": [
    "# 2- Display the first ten rows of data.\n",
    "print('First 10 rows')\n",
    "print(videogame_df.head(10))"
   ],
   "outputs": [
    {
     "name": "stdout",
     "output_type": "stream",
     "text": [
      "First 10 rows\n",
      "                        Name Platform  Year_of_Release         Genre  \\\n",
      "0                 Wii Sports      Wii           2006.0        Sports   \n",
      "1          Super Mario Bros.      NES           1985.0      Platform   \n",
      "2             Mario Kart Wii      Wii           2008.0        Racing   \n",
      "3          Wii Sports Resort      Wii           2009.0        Sports   \n",
      "4   Pokemon Red/Pokemon Blue       GB           1996.0  Role-Playing   \n",
      "5                     Tetris       GB           1989.0        Puzzle   \n",
      "6      New Super Mario Bros.       DS           2006.0      Platform   \n",
      "7                   Wii Play      Wii           2006.0          Misc   \n",
      "8  New Super Mario Bros. Wii      Wii           2009.0      Platform   \n",
      "9                  Duck Hunt      NES           1984.0       Shooter   \n",
      "\n",
      "  Publisher  NA_Sales  EU_Sales  JP_Sales  Other_Sales  Global_Sales  \\\n",
      "0  Nintendo     41.36     28.96      3.77         8.45         82.53   \n",
      "1  Nintendo     29.08      3.58      6.81         0.77         40.24   \n",
      "2  Nintendo     15.68     12.76      3.79         3.29         35.52   \n",
      "3  Nintendo     15.61     10.93      3.28         2.95         32.77   \n",
      "4  Nintendo     11.27      8.89     10.22         1.00         31.37   \n",
      "5  Nintendo     23.20      2.26      4.22         0.58         30.26   \n",
      "6  Nintendo     11.28      9.14      6.50         2.88         29.80   \n",
      "7  Nintendo     13.96      9.18      2.93         2.84         28.92   \n",
      "8  Nintendo     14.44      6.94      4.70         2.24         28.32   \n",
      "9  Nintendo     26.93      0.63      0.28         0.47         28.31   \n",
      "\n",
      "   Critic_Score  Critic_Count User_Score  User_Count Developer Rating  \n",
      "0          76.0          51.0          8       322.0  Nintendo      E  \n",
      "1           NaN           NaN        NaN         NaN       NaN    NaN  \n",
      "2          82.0          73.0        8.3       709.0  Nintendo      E  \n",
      "3          80.0          73.0          8       192.0  Nintendo      E  \n",
      "4           NaN           NaN        NaN         NaN       NaN    NaN  \n",
      "5           NaN           NaN        NaN         NaN       NaN    NaN  \n",
      "6          89.0          65.0        8.5       431.0  Nintendo      E  \n",
      "7          58.0          41.0        6.6       129.0  Nintendo      E  \n",
      "8          87.0          80.0        8.4       594.0  Nintendo      E  \n",
      "9           NaN           NaN        NaN         NaN       NaN    NaN  \n"
     ]
    }
   ],
   "execution_count": 25
  },
  {
   "cell_type": "raw",
   "id": "a8f0c584",
   "metadata": {},
   "source": [
    "# Find the dimensions (number of rows and columns) in the data frame. What do these two numbers represent in the context of the data?"
   ]
  },
  {
   "cell_type": "code",
   "id": "a3ecf2a0",
   "metadata": {
    "ExecuteTime": {
     "end_time": "2024-10-06T14:17:36.055152Z",
     "start_time": "2024-10-06T14:17:36.048812Z"
    }
   },
   "source": [
    "# Dimensions\n",
    "# numRows = number of rows\n",
    "#numColumns = number of columns\n",
    "numRows, numColumns = videogame_df.shape\n",
    "\n",
    "print(f\"The number of rows is : {numRows}\")\n",
    "print(f\"The number of columns is :{numColumns}\")"
   ],
   "outputs": [
    {
     "name": "stdout",
     "output_type": "stream",
     "text": [
      "The number of rows is : 16719\n",
      "The number of columns is :16\n"
     ]
    }
   ],
   "execution_count": 26
  },
  {
   "cell_type": "raw",
   "id": "e357f2d3",
   "metadata": {},
   "source": [
    "The number of rows represents the number of video games.\n",
    "The number of columns represents the number of attributes of the video games (Name, Platform, Year_of_Release etc.)"
   ]
  },
  {
   "cell_type": "raw",
   "id": "3ee5b5c4",
   "metadata": {},
   "source": [
    "Find the top five games by critic score"
   ]
  },
  {
   "cell_type": "code",
   "id": "4bf77309",
   "metadata": {
    "scrolled": true,
    "ExecuteTime": {
     "end_time": "2024-10-06T14:17:36.070587Z",
     "start_time": "2024-10-06T14:17:36.058672Z"
    }
   },
   "source": [
    "# Top 5 games by critic score\n",
    "# We will use the nlargest method\n",
    "top5GamesbyCritic = videogame_df.nlargest(5, 'Critic_Score')[['Name', 'Critic_Score']]\n",
    "print('Top 5 games by critic score')\n",
    "print(top5GamesbyCritic)"
   ],
   "outputs": [
    {
     "name": "stdout",
     "output_type": "stream",
     "text": [
      "Top 5 games by critic score\n",
      "                          Name  Critic_Score\n",
      "51         Grand Theft Auto IV          98.0\n",
      "57         Grand Theft Auto IV          98.0\n",
      "227   Tony Hawk's Pro Skater 2          98.0\n",
      "5350               SoulCalibur          98.0\n",
      "16          Grand Theft Auto V          97.0\n"
     ]
    }
   ],
   "execution_count": 27
  },
  {
   "cell_type": "code",
   "id": "43da764f",
   "metadata": {
    "ExecuteTime": {
     "end_time": "2024-10-06T14:17:36.077123Z",
     "start_time": "2024-10-06T14:17:36.071609Z"
    }
   },
   "source": [
    "# Find the number of video games in the data frame in each genre.\n",
    "# Count the number of video games in each genre\n",
    "gameperGenre = videogame_df['Genre'].value_counts()\n",
    "\n",
    "print(\"Number of video games in each genre :\")\n",
    "print(gameperGenre)\n"
   ],
   "outputs": [
    {
     "name": "stdout",
     "output_type": "stream",
     "text": [
      "Number of video games in each genre :\n",
      "Genre\n",
      "Action          3370\n",
      "Sports          2348\n",
      "Misc            1750\n",
      "Role-Playing    1500\n",
      "Shooter         1323\n",
      "Adventure       1303\n",
      "Racing          1249\n",
      "Platform         888\n",
      "Simulation       874\n",
      "Fighting         849\n",
      "Strategy         683\n",
      "Puzzle           580\n",
      "Name: count, dtype: int64\n"
     ]
    }
   ],
   "execution_count": 28
  },
  {
   "cell_type": "code",
   "id": "7e67e7f1",
   "metadata": {
    "ExecuteTime": {
     "end_time": "2024-10-06T14:17:36.084169Z",
     "start_time": "2024-10-06T14:17:36.077123Z"
    }
   },
   "source": [
    "# Find the first five games in the data frame on the SNES platform.\n",
    "# Select all the games on the SNES platform\n",
    "SNESgames = videogame_df[videogame_df['Platform'] == 'SNES']\n",
    "\n",
    "# Let's keep only the name and platform for display clarity\n",
    "SNESgames = SNESgames[['Name', 'Platform']]\n",
    "\n",
    "\n",
    "# Select the top 5\n",
    "top5SNESgames = SNESgames.head(5)\n",
    "\n",
    "print(\"First 5 games on the SNES platform:\")\n",
    "print(top5SNESgames)"
   ],
   "outputs": [
    {
     "name": "stdout",
     "output_type": "stream",
     "text": [
      "First 5 games on the SNES platform:\n",
      "                                     Name Platform\n",
      "18                      Super Mario World     SNES\n",
      "56                  Super Mario All-Stars     SNES\n",
      "71                    Donkey Kong Country     SNES\n",
      "76                       Super Mario Kart     SNES\n",
      "137  Street Fighter II: The World Warrior     SNES\n"
     ]
    }
   ],
   "execution_count": 29
  },
  {
   "cell_type": "raw",
   "id": "c6fdcc46",
   "metadata": {},
   "source": [
    "Find the five publishers with the highest total global sales. Note: You will need to calculate the total global sales for each publisher to do this."
   ]
  },
  {
   "cell_type": "code",
   "id": "cd74633a",
   "metadata": {
    "ExecuteTime": {
     "end_time": "2024-10-06T14:17:36.094124Z",
     "start_time": "2024-10-06T14:17:36.084169Z"
    }
   },
   "source": [
    "# Calculate the total global sales for each publisher\n",
    "publisherTotalSales = videogame_df.groupby('Publisher')['Global_Sales'].sum()\n",
    "\n",
    "# Select the top 5\n",
    "top_5_publisherTotalSales = publisherTotalSales.nlargest(5)\n",
    "\n",
    "# Printing the result\n",
    "print(\"Five publishers with the highest total global sales :\")\n",
    "print(top_5_publisherTotalSales)"
   ],
   "outputs": [
    {
     "name": "stdout",
     "output_type": "stream",
     "text": [
      "Five publishers with the highest total global sales :\n",
      "Publisher\n",
      "Nintendo                       1788.81\n",
      "Electronic Arts                1116.96\n",
      "Activision                      731.16\n",
      "Sony Computer Entertainment     606.48\n",
      "Ubisoft                         471.61\n",
      "Name: Global_Sales, dtype: float64\n"
     ]
    }
   ],
   "execution_count": 30
  },
  {
   "cell_type": "raw",
   "id": "6de86229",
   "metadata": {},
   "source": [
    "Create a new column in the data frame that calculates the percentage of global sales from North America. Display the first five rows of the new data frame."
   ]
  },
  {
   "cell_type": "code",
   "id": "6f16fdb4",
   "metadata": {
    "ExecuteTime": {
     "end_time": "2024-10-06T14:17:36.104569Z",
     "start_time": "2024-10-06T14:17:36.094124Z"
    }
   },
   "source": [
    "# Percentage of global sales from North America\n",
    "videogame_df['NA_Sales_Percentage'] = (videogame_df['NA_Sales'] / videogame_df['Global_Sales'])*100\n",
    "\n",
    "# First 5 rows of the new data frame\n",
    "print('First 5 rows of the new data frame: ')\n",
    "print(videogame_df.head(5))"
   ],
   "outputs": [
    {
     "name": "stdout",
     "output_type": "stream",
     "text": [
      "First 5 rows of the new data frame: \n",
      "                       Name Platform  Year_of_Release         Genre Publisher  \\\n",
      "0                Wii Sports      Wii           2006.0        Sports  Nintendo   \n",
      "1         Super Mario Bros.      NES           1985.0      Platform  Nintendo   \n",
      "2            Mario Kart Wii      Wii           2008.0        Racing  Nintendo   \n",
      "3         Wii Sports Resort      Wii           2009.0        Sports  Nintendo   \n",
      "4  Pokemon Red/Pokemon Blue       GB           1996.0  Role-Playing  Nintendo   \n",
      "\n",
      "   NA_Sales  EU_Sales  JP_Sales  Other_Sales  Global_Sales  Critic_Score  \\\n",
      "0     41.36     28.96      3.77         8.45         82.53          76.0   \n",
      "1     29.08      3.58      6.81         0.77         40.24           NaN   \n",
      "2     15.68     12.76      3.79         3.29         35.52          82.0   \n",
      "3     15.61     10.93      3.28         2.95         32.77          80.0   \n",
      "4     11.27      8.89     10.22         1.00         31.37           NaN   \n",
      "\n",
      "   Critic_Count User_Score  User_Count Developer Rating  NA_Sales_Percentage  \n",
      "0          51.0          8       322.0  Nintendo      E            50.115110  \n",
      "1           NaN        NaN         NaN       NaN    NaN            72.266402  \n",
      "2          73.0        8.3       709.0  Nintendo      E            44.144144  \n",
      "3          73.0          8       192.0  Nintendo      E            47.635032  \n",
      "4           NaN        NaN         NaN       NaN    NaN            35.926044  \n"
     ]
    }
   ],
   "execution_count": 31
  },
  {
   "cell_type": "code",
   "id": "2bcce54a",
   "metadata": {
    "ExecuteTime": {
     "end_time": "2024-10-06T14:17:36.112600Z",
     "start_time": "2024-10-06T14:17:36.104569Z"
    }
   },
   "source": [
    "# Find the number NaN entries (missing data values) in each column\n",
    "# We will use the isna() function to check for missing or null values\n",
    "\n",
    "nanCount = videogame_df.isna().sum()\n",
    "print(\"Number of NaN entries in each column:\")\n",
    "print(nanCount)"
   ],
   "outputs": [
    {
     "name": "stdout",
     "output_type": "stream",
     "text": [
      "Number of NaN entries in each column:\n",
      "Name                      2\n",
      "Platform                  0\n",
      "Year_of_Release         269\n",
      "Genre                     2\n",
      "Publisher                54\n",
      "NA_Sales                  0\n",
      "EU_Sales                  0\n",
      "JP_Sales                  0\n",
      "Other_Sales               0\n",
      "Global_Sales              0\n",
      "Critic_Score           8582\n",
      "Critic_Count           8582\n",
      "User_Score             6704\n",
      "User_Count             9129\n",
      "Developer              6623\n",
      "Rating                 6769\n",
      "NA_Sales_Percentage       0\n",
      "dtype: int64\n"
     ]
    }
   ],
   "execution_count": 32
  },
  {
   "cell_type": "raw",
   "id": "af178820",
   "metadata": {},
   "source": [
    "Try to calculate the median user score of all the video games. You will likely run into an error because some of the user score entries are a non-numerical string that cannot be converted to a float. Find and replace this string with NaN and then calculate the median. Then, replace all NaN entries in the user score column with the median value."
   ]
  },
  {
   "cell_type": "code",
   "id": "ec578a6e",
   "metadata": {
    "ExecuteTime": {
     "end_time": "2024-10-06T14:17:36.123426Z",
     "start_time": "2024-10-06T14:17:36.115118Z"
    }
   },
   "source": [
    "# Replacing non-numerical strings with NaN in the User_Score column\n",
    "videogame_df['User_Score'] = pd.to_numeric(videogame_df['User_Score'], errors='coerce')\n",
    "\n",
    "# Calculating the median score\n",
    "medianScore = videogame_df['User_Score'].median()\n",
    "\n",
    "# Printing the result\n",
    "print(f'The median user score is : {medianScore}')"
   ],
   "outputs": [
    {
     "name": "stdout",
     "output_type": "stream",
     "text": [
      "The median user score is : 7.5\n"
     ]
    }
   ],
   "execution_count": 33
  },
  {
   "cell_type": "code",
   "id": "c5a57986",
   "metadata": {
    "ExecuteTime": {
     "end_time": "2024-10-06T14:17:36.132737Z",
     "start_time": "2024-10-06T14:17:36.124704Z"
    }
   },
   "source": [
    "# Replacing all NaN entries\n",
    "videogame_df['User_Score'].fillna(medianScore, inplace=True)\n",
    "\n",
    "# Printing the first 10 rows to show there is no more NaN in the user score and they have been replaced by the median\n",
    "print('First 10 rows after replacing all NaN entries')\n",
    "print(videogame_df[['Name', 'Platform', 'Genre', 'User_Score']].head(10))"
   ],
   "outputs": [
    {
     "name": "stdout",
     "output_type": "stream",
     "text": [
      "First 10 rows after replacing all NaN entries\n",
      "                        Name Platform         Genre  User_Score\n",
      "0                 Wii Sports      Wii        Sports         8.0\n",
      "1          Super Mario Bros.      NES      Platform         7.5\n",
      "2             Mario Kart Wii      Wii        Racing         8.3\n",
      "3          Wii Sports Resort      Wii        Sports         8.0\n",
      "4   Pokemon Red/Pokemon Blue       GB  Role-Playing         7.5\n",
      "5                     Tetris       GB        Puzzle         7.5\n",
      "6      New Super Mario Bros.       DS      Platform         8.5\n",
      "7                   Wii Play      Wii          Misc         6.6\n",
      "8  New Super Mario Bros. Wii      Wii      Platform         8.4\n",
      "9                  Duck Hunt      NES       Shooter         7.5\n"
     ]
    },
    {
     "name": "stderr",
     "output_type": "stream",
     "text": [
      "C:\\Users\\gyanr\\AppData\\Local\\Temp\\ipykernel_44296\\3263945279.py:2: FutureWarning: A value is trying to be set on a copy of a DataFrame or Series through chained assignment using an inplace method.\n",
      "The behavior will change in pandas 3.0. This inplace method will never work because the intermediate object on which we are setting values always behaves as a copy.\n",
      "\n",
      "For example, when doing 'df[col].method(value, inplace=True)', try using 'df.method({col: value}, inplace=True)' or df[col] = df[col].method(value) instead, to perform the operation inplace on the original object.\n",
      "\n",
      "\n",
      "  videogame_df['User_Score'].fillna(medianScore, inplace=True)\n"
     ]
    }
   ],
   "execution_count": 34
  }
 ],
 "metadata": {
  "kernelspec": {
   "display_name": "Python 3 (ipykernel)",
   "language": "python",
   "name": "python3"
  },
  "language_info": {
   "codemirror_mode": {
    "name": "ipython",
    "version": 3
   },
   "file_extension": ".py",
   "mimetype": "text/x-python",
   "name": "python",
   "nbconvert_exporter": "python",
   "pygments_lexer": "ipython3",
   "version": "3.11.5"
  }
 },
 "nbformat": 4,
 "nbformat_minor": 5
}
