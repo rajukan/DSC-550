{
 "cells": [
  {
   "cell_type": "markdown",
   "metadata": {},
   "source": [
    "# gyan kannur\n",
    "## DSC550, Week 4"
   ]
  },
  {
   "cell_type": "markdown",
   "metadata": {},
   "source": [
    "# 4.2: Sentiment Analysis"
   ]
  },
  {
   "cell_type": "code",
   "metadata": {
    "ExecuteTime": {
     "end_time": "2025-02-08T21:26:13.471041Z",
     "start_time": "2025-02-08T21:26:13.463116Z"
    }
   },
   "source": [
    "import pandas as pd"
   ],
   "outputs": [],
   "execution_count": 31
  },
  {
   "cell_type": "markdown",
   "metadata": {},
   "source": [
    "## 1) Load the data file DailyComments.csv from the Week 4 Data Files into a data frame."
   ]
  },
  {
   "cell_type": "code",
   "metadata": {
    "ExecuteTime": {
     "end_time": "2025-02-08T21:26:13.576655Z",
     "start_time": "2025-02-08T21:26:13.571570Z"
    }
   },
   "source": "commentsDF = pd.read_csv('./assignments-data/DailyComments.csv')",
   "outputs": [],
   "execution_count": 32
  },
  {
   "cell_type": "code",
   "metadata": {
    "ExecuteTime": {
     "end_time": "2025-02-08T21:26:13.594461Z",
     "start_time": "2025-02-08T21:26:13.591423Z"
    }
   },
   "source": [],
   "outputs": [],
   "execution_count": 32
  },
  {
   "cell_type": "markdown",
   "metadata": {},
   "source": [
    "## 2) Identify a scheme to categorize each comment as positive or negative. You can devise your own scheme or find a commonly used scheme to perform this sentiment analysis. However you decide to do this, make sure to explain the scheme you decide to use."
   ]
  },
  {
   "cell_type": "markdown",
   "metadata": {},
   "source": [
    "### Manual Sentiment Encoding"
   ]
  },
  {
   "cell_type": "code",
   "metadata": {
    "ExecuteTime": {
     "end_time": "2025-02-08T21:26:13.613965Z",
     "start_time": "2025-02-08T21:26:13.604994Z"
    }
   },
   "source": [
    "# Assign sentiment for each comment based on my own judgement\n",
    "myScoring = ['Neutral', 'Positive', 'Positive', 'Neutral', 'Negative', 'Neutral', 'Positive']\n",
    "commentsDF['mySentiment'] = myScoring\n",
    "commentsDF"
   ],
   "outputs": [
    {
     "data": {
      "text/plain": [
       "  Day of Week                                        comments mySentiment\n",
       "0      Monday                             Hello, how are you?     Neutral\n",
       "1     Tuesday                            Today is a good day!    Positive\n",
       "2   Wednesday  It's my birthday so it's a really special day!    Positive\n",
       "3    Thursday       Today is neither a good day or a bad day!     Neutral\n",
       "4      Friday                           I'm having a bad day.    Negative\n",
       "5    Saturday       There' s nothing special happening today.     Neutral\n",
       "6      Sunday                      Today is a SUPER good day!    Positive"
      ],
      "text/html": [
       "<div>\n",
       "<style scoped>\n",
       "    .dataframe tbody tr th:only-of-type {\n",
       "        vertical-align: middle;\n",
       "    }\n",
       "\n",
       "    .dataframe tbody tr th {\n",
       "        vertical-align: top;\n",
       "    }\n",
       "\n",
       "    .dataframe thead th {\n",
       "        text-align: right;\n",
       "    }\n",
       "</style>\n",
       "<table border=\"1\" class=\"dataframe\">\n",
       "  <thead>\n",
       "    <tr style=\"text-align: right;\">\n",
       "      <th></th>\n",
       "      <th>Day of Week</th>\n",
       "      <th>comments</th>\n",
       "      <th>mySentiment</th>\n",
       "    </tr>\n",
       "  </thead>\n",
       "  <tbody>\n",
       "    <tr>\n",
       "      <th>0</th>\n",
       "      <td>Monday</td>\n",
       "      <td>Hello, how are you?</td>\n",
       "      <td>Neutral</td>\n",
       "    </tr>\n",
       "    <tr>\n",
       "      <th>1</th>\n",
       "      <td>Tuesday</td>\n",
       "      <td>Today is a good day!</td>\n",
       "      <td>Positive</td>\n",
       "    </tr>\n",
       "    <tr>\n",
       "      <th>2</th>\n",
       "      <td>Wednesday</td>\n",
       "      <td>It's my birthday so it's a really special day!</td>\n",
       "      <td>Positive</td>\n",
       "    </tr>\n",
       "    <tr>\n",
       "      <th>3</th>\n",
       "      <td>Thursday</td>\n",
       "      <td>Today is neither a good day or a bad day!</td>\n",
       "      <td>Neutral</td>\n",
       "    </tr>\n",
       "    <tr>\n",
       "      <th>4</th>\n",
       "      <td>Friday</td>\n",
       "      <td>I'm having a bad day.</td>\n",
       "      <td>Negative</td>\n",
       "    </tr>\n",
       "    <tr>\n",
       "      <th>5</th>\n",
       "      <td>Saturday</td>\n",
       "      <td>There' s nothing special happening today.</td>\n",
       "      <td>Neutral</td>\n",
       "    </tr>\n",
       "    <tr>\n",
       "      <th>6</th>\n",
       "      <td>Sunday</td>\n",
       "      <td>Today is a SUPER good day!</td>\n",
       "      <td>Positive</td>\n",
       "    </tr>\n",
       "  </tbody>\n",
       "</table>\n",
       "</div>"
      ]
     },
     "execution_count": 33,
     "metadata": {},
     "output_type": "execute_result"
    }
   ],
   "execution_count": 33
  },
  {
   "cell_type": "markdown",
   "metadata": {},
   "source": [
    "### Sentiment Analysis by Encoding Selected Words as Positive or Negative"
   ]
  },
  {
   "cell_type": "code",
   "metadata": {
    "ExecuteTime": {
     "end_time": "2025-02-08T21:26:13.642263Z",
     "start_time": "2025-02-08T21:26:13.637077Z"
    }
   },
   "source": [
    "# Create a copy of the data to work with\n",
    "encodingDF = commentsDF.copy()"
   ],
   "outputs": [],
   "execution_count": 34
  },
  {
   "cell_type": "code",
   "metadata": {
    "ExecuteTime": {
     "end_time": "2025-02-08T21:26:13.664462Z",
     "start_time": "2025-02-08T21:26:13.657732Z"
    }
   },
   "source": [
    "def manualEncoding(df):\n",
    "    '''\n",
    "    Look for specific words manually assigned as positive or negative,\n",
    "    creating a matrix showing which comments contain those words.\n",
    "    '''\n",
    "    df['positive1'] = df.comments.str.count('good')\n",
    "    df['positive2'] = df.comments.str.count('special')\n",
    "    df['negative'] = df.comments.str.count('bad')\n",
    "    # Subtract negative words from positive words for an overall score\n",
    "    df['encoderScoring'] = df.positive1 + df.positive2 - df.negative\n",
    "    return df"
   ],
   "outputs": [],
   "execution_count": 35
  },
  {
   "cell_type": "code",
   "metadata": {
    "ExecuteTime": {
     "end_time": "2025-02-08T21:26:13.677175Z",
     "start_time": "2025-02-08T21:26:13.664462Z"
    }
   },
   "source": [
    "manualEncoding(encodingDF)"
   ],
   "outputs": [
    {
     "data": {
      "text/plain": [
       "  Day of Week                                        comments mySentiment  \\\n",
       "0      Monday                             Hello, how are you?     Neutral   \n",
       "1     Tuesday                            Today is a good day!    Positive   \n",
       "2   Wednesday  It's my birthday so it's a really special day!    Positive   \n",
       "3    Thursday       Today is neither a good day or a bad day!     Neutral   \n",
       "4      Friday                           I'm having a bad day.    Negative   \n",
       "5    Saturday       There' s nothing special happening today.     Neutral   \n",
       "6      Sunday                      Today is a SUPER good day!    Positive   \n",
       "\n",
       "   positive1  positive2  negative  encoderScoring  \n",
       "0          0          0         0               0  \n",
       "1          1          0         0               1  \n",
       "2          0          1         0               1  \n",
       "3          1          0         1               0  \n",
       "4          0          0         1              -1  \n",
       "5          0          1         0               1  \n",
       "6          1          0         0               1  "
      ],
      "text/html": [
       "<div>\n",
       "<style scoped>\n",
       "    .dataframe tbody tr th:only-of-type {\n",
       "        vertical-align: middle;\n",
       "    }\n",
       "\n",
       "    .dataframe tbody tr th {\n",
       "        vertical-align: top;\n",
       "    }\n",
       "\n",
       "    .dataframe thead th {\n",
       "        text-align: right;\n",
       "    }\n",
       "</style>\n",
       "<table border=\"1\" class=\"dataframe\">\n",
       "  <thead>\n",
       "    <tr style=\"text-align: right;\">\n",
       "      <th></th>\n",
       "      <th>Day of Week</th>\n",
       "      <th>comments</th>\n",
       "      <th>mySentiment</th>\n",
       "      <th>positive1</th>\n",
       "      <th>positive2</th>\n",
       "      <th>negative</th>\n",
       "      <th>encoderScoring</th>\n",
       "    </tr>\n",
       "  </thead>\n",
       "  <tbody>\n",
       "    <tr>\n",
       "      <th>0</th>\n",
       "      <td>Monday</td>\n",
       "      <td>Hello, how are you?</td>\n",
       "      <td>Neutral</td>\n",
       "      <td>0</td>\n",
       "      <td>0</td>\n",
       "      <td>0</td>\n",
       "      <td>0</td>\n",
       "    </tr>\n",
       "    <tr>\n",
       "      <th>1</th>\n",
       "      <td>Tuesday</td>\n",
       "      <td>Today is a good day!</td>\n",
       "      <td>Positive</td>\n",
       "      <td>1</td>\n",
       "      <td>0</td>\n",
       "      <td>0</td>\n",
       "      <td>1</td>\n",
       "    </tr>\n",
       "    <tr>\n",
       "      <th>2</th>\n",
       "      <td>Wednesday</td>\n",
       "      <td>It's my birthday so it's a really special day!</td>\n",
       "      <td>Positive</td>\n",
       "      <td>0</td>\n",
       "      <td>1</td>\n",
       "      <td>0</td>\n",
       "      <td>1</td>\n",
       "    </tr>\n",
       "    <tr>\n",
       "      <th>3</th>\n",
       "      <td>Thursday</td>\n",
       "      <td>Today is neither a good day or a bad day!</td>\n",
       "      <td>Neutral</td>\n",
       "      <td>1</td>\n",
       "      <td>0</td>\n",
       "      <td>1</td>\n",
       "      <td>0</td>\n",
       "    </tr>\n",
       "    <tr>\n",
       "      <th>4</th>\n",
       "      <td>Friday</td>\n",
       "      <td>I'm having a bad day.</td>\n",
       "      <td>Negative</td>\n",
       "      <td>0</td>\n",
       "      <td>0</td>\n",
       "      <td>1</td>\n",
       "      <td>-1</td>\n",
       "    </tr>\n",
       "    <tr>\n",
       "      <th>5</th>\n",
       "      <td>Saturday</td>\n",
       "      <td>There' s nothing special happening today.</td>\n",
       "      <td>Neutral</td>\n",
       "      <td>0</td>\n",
       "      <td>1</td>\n",
       "      <td>0</td>\n",
       "      <td>1</td>\n",
       "    </tr>\n",
       "    <tr>\n",
       "      <th>6</th>\n",
       "      <td>Sunday</td>\n",
       "      <td>Today is a SUPER good day!</td>\n",
       "      <td>Positive</td>\n",
       "      <td>1</td>\n",
       "      <td>0</td>\n",
       "      <td>0</td>\n",
       "      <td>1</td>\n",
       "    </tr>\n",
       "  </tbody>\n",
       "</table>\n",
       "</div>"
      ]
     },
     "execution_count": 36,
     "metadata": {},
     "output_type": "execute_result"
    }
   ],
   "execution_count": 36
  },
  {
   "cell_type": "markdown",
   "metadata": {},
   "source": [
    "### Sentiment Analysis using Vader"
   ]
  },
  {
   "cell_type": "code",
   "metadata": {
    "ExecuteTime": {
     "end_time": "2025-02-08T21:26:47.215715Z",
     "start_time": "2025-02-08T21:26:47.213589Z"
    }
   },
   "source": [
    "# import nltk\n",
    "# nltk.download('vader_lexicon')"
   ],
   "outputs": [],
   "execution_count": 47
  },
  {
   "cell_type": "code",
   "metadata": {
    "ExecuteTime": {
     "end_time": "2025-02-08T21:26:47.843490Z",
     "start_time": "2025-02-08T21:26:47.837642Z"
    }
   },
   "source": [
    "from nltk.sentiment.vader import SentimentIntensityAnalyzer"
   ],
   "outputs": [],
   "execution_count": 48
  },
  {
   "cell_type": "code",
   "metadata": {
    "ExecuteTime": {
     "end_time": "2025-02-08T21:26:48.706478Z",
     "start_time": "2025-02-08T21:26:48.654630Z"
    }
   },
   "source": [
    "# Set up Vader sentiment analyzer\n",
    "analyzer = SentimentIntensityAnalyzer()"
   ],
   "outputs": [],
   "execution_count": 49
  },
  {
   "cell_type": "code",
   "metadata": {
    "ExecuteTime": {
     "end_time": "2025-02-08T21:26:51.132552Z",
     "start_time": "2025-02-08T21:26:51.125892Z"
    }
   },
   "source": [
    "# Create a copy of the data to work with\n",
    "vaderDF = commentsDF.copy()"
   ],
   "outputs": [],
   "execution_count": 50
  },
  {
   "cell_type": "code",
   "metadata": {
    "ExecuteTime": {
     "end_time": "2025-02-08T21:26:51.920009Z",
     "start_time": "2025-02-08T21:26:51.914964Z"
    }
   },
   "source": [
    "def vaderScoring(df):\n",
    "    '''\n",
    "    Analyzes comments for overall negative, neutral, and positive words\n",
    "    as well as an overall Vader sentiment score. Assigns each value to\n",
    "    its respective column and returns the DataFrame.\n",
    "    '''\n",
    "    df['negative'] = df['comments'].apply(lambda x: analyzer.polarity_scores(x)['neg'])\n",
    "    df['neutral'] = df['comments'].apply(lambda x: analyzer.polarity_scores(x)['neu'])\n",
    "    df['positive'] = df['comments'].apply(lambda x: analyzer.polarity_scores(x)['pos'])\n",
    "    df['vaderScoring'] = df['comments'].apply(lambda x: analyzer.polarity_scores(x)['compound'])\n",
    "    return df"
   ],
   "outputs": [],
   "execution_count": 51
  },
  {
   "cell_type": "code",
   "metadata": {
    "ExecuteTime": {
     "end_time": "2025-02-08T21:26:54.068371Z",
     "start_time": "2025-02-08T21:26:54.046689Z"
    }
   },
   "source": [
    "vaderScoring(vaderDF)"
   ],
   "outputs": [
    {
     "data": {
      "text/plain": [
       "  Day of Week                                        comments mySentiment  \\\n",
       "0      Monday                             Hello, how are you?     Neutral   \n",
       "1     Tuesday                            Today is a good day!    Positive   \n",
       "2   Wednesday  It's my birthday so it's a really special day!    Positive   \n",
       "3    Thursday       Today is neither a good day or a bad day!     Neutral   \n",
       "4      Friday                           I'm having a bad day.    Negative   \n",
       "5    Saturday       There' s nothing special happening today.     Neutral   \n",
       "6      Sunday                      Today is a SUPER good day!    Positive   \n",
       "\n",
       "   negative  neutral  positive  vaderScoring  \n",
       "0     0.000    1.000     0.000        0.0000  \n",
       "1     0.000    0.484     0.516        0.4926  \n",
       "2     0.000    0.664     0.336        0.5497  \n",
       "3     0.508    0.492     0.000       -0.7350  \n",
       "4     0.538    0.462     0.000       -0.5423  \n",
       "5     0.361    0.639     0.000       -0.3089  \n",
       "6     0.000    0.277     0.723        0.8327  "
      ],
      "text/html": [
       "<div>\n",
       "<style scoped>\n",
       "    .dataframe tbody tr th:only-of-type {\n",
       "        vertical-align: middle;\n",
       "    }\n",
       "\n",
       "    .dataframe tbody tr th {\n",
       "        vertical-align: top;\n",
       "    }\n",
       "\n",
       "    .dataframe thead th {\n",
       "        text-align: right;\n",
       "    }\n",
       "</style>\n",
       "<table border=\"1\" class=\"dataframe\">\n",
       "  <thead>\n",
       "    <tr style=\"text-align: right;\">\n",
       "      <th></th>\n",
       "      <th>Day of Week</th>\n",
       "      <th>comments</th>\n",
       "      <th>mySentiment</th>\n",
       "      <th>negative</th>\n",
       "      <th>neutral</th>\n",
       "      <th>positive</th>\n",
       "      <th>vaderScoring</th>\n",
       "    </tr>\n",
       "  </thead>\n",
       "  <tbody>\n",
       "    <tr>\n",
       "      <th>0</th>\n",
       "      <td>Monday</td>\n",
       "      <td>Hello, how are you?</td>\n",
       "      <td>Neutral</td>\n",
       "      <td>0.000</td>\n",
       "      <td>1.000</td>\n",
       "      <td>0.000</td>\n",
       "      <td>0.0000</td>\n",
       "    </tr>\n",
       "    <tr>\n",
       "      <th>1</th>\n",
       "      <td>Tuesday</td>\n",
       "      <td>Today is a good day!</td>\n",
       "      <td>Positive</td>\n",
       "      <td>0.000</td>\n",
       "      <td>0.484</td>\n",
       "      <td>0.516</td>\n",
       "      <td>0.4926</td>\n",
       "    </tr>\n",
       "    <tr>\n",
       "      <th>2</th>\n",
       "      <td>Wednesday</td>\n",
       "      <td>It's my birthday so it's a really special day!</td>\n",
       "      <td>Positive</td>\n",
       "      <td>0.000</td>\n",
       "      <td>0.664</td>\n",
       "      <td>0.336</td>\n",
       "      <td>0.5497</td>\n",
       "    </tr>\n",
       "    <tr>\n",
       "      <th>3</th>\n",
       "      <td>Thursday</td>\n",
       "      <td>Today is neither a good day or a bad day!</td>\n",
       "      <td>Neutral</td>\n",
       "      <td>0.508</td>\n",
       "      <td>0.492</td>\n",
       "      <td>0.000</td>\n",
       "      <td>-0.7350</td>\n",
       "    </tr>\n",
       "    <tr>\n",
       "      <th>4</th>\n",
       "      <td>Friday</td>\n",
       "      <td>I'm having a bad day.</td>\n",
       "      <td>Negative</td>\n",
       "      <td>0.538</td>\n",
       "      <td>0.462</td>\n",
       "      <td>0.000</td>\n",
       "      <td>-0.5423</td>\n",
       "    </tr>\n",
       "    <tr>\n",
       "      <th>5</th>\n",
       "      <td>Saturday</td>\n",
       "      <td>There' s nothing special happening today.</td>\n",
       "      <td>Neutral</td>\n",
       "      <td>0.361</td>\n",
       "      <td>0.639</td>\n",
       "      <td>0.000</td>\n",
       "      <td>-0.3089</td>\n",
       "    </tr>\n",
       "    <tr>\n",
       "      <th>6</th>\n",
       "      <td>Sunday</td>\n",
       "      <td>Today is a SUPER good day!</td>\n",
       "      <td>Positive</td>\n",
       "      <td>0.000</td>\n",
       "      <td>0.277</td>\n",
       "      <td>0.723</td>\n",
       "      <td>0.8327</td>\n",
       "    </tr>\n",
       "  </tbody>\n",
       "</table>\n",
       "</div>"
      ]
     },
     "execution_count": 52,
     "metadata": {},
     "output_type": "execute_result"
    }
   ],
   "execution_count": 52
  },
  {
   "cell_type": "markdown",
   "metadata": {},
   "source": [
    "### Sentiment Analysis using TextBlob"
   ]
  },
  {
   "cell_type": "code",
   "metadata": {
    "ExecuteTime": {
     "end_time": "2025-02-08T21:26:56.101475Z",
     "start_time": "2025-02-08T21:26:56.094435Z"
    }
   },
   "source": [
    "from textblob import TextBlob"
   ],
   "outputs": [],
   "execution_count": 53
  },
  {
   "cell_type": "code",
   "metadata": {
    "ExecuteTime": {
     "end_time": "2025-02-08T21:26:56.947377Z",
     "start_time": "2025-02-08T21:26:56.938870Z"
    }
   },
   "source": [
    "# Create a copy of the data to work with\n",
    "textBlobDF = commentsDF.copy()"
   ],
   "outputs": [],
   "execution_count": 54
  },
  {
   "cell_type": "code",
   "metadata": {
    "ExecuteTime": {
     "end_time": "2025-02-08T21:26:57.630402Z",
     "start_time": "2025-02-08T21:26:57.614905Z"
    }
   },
   "source": [
    "# Create a column with TextBlob sentiment scores for each comment\n",
    "textBlobDF['textBlobScoring'] = textBlobDF['comments'].apply(lambda x: TextBlob(x).polarity)\n",
    "textBlobDF"
   ],
   "outputs": [
    {
     "data": {
      "text/plain": [
       "  Day of Week                                        comments mySentiment  \\\n",
       "0      Monday                             Hello, how are you?     Neutral   \n",
       "1     Tuesday                            Today is a good day!    Positive   \n",
       "2   Wednesday  It's my birthday so it's a really special day!    Positive   \n",
       "3    Thursday       Today is neither a good day or a bad day!     Neutral   \n",
       "4      Friday                           I'm having a bad day.    Negative   \n",
       "5    Saturday       There' s nothing special happening today.     Neutral   \n",
       "6      Sunday                      Today is a SUPER good day!    Positive   \n",
       "\n",
       "   textBlobScoring  \n",
       "0         0.000000  \n",
       "1         0.875000  \n",
       "2         0.446429  \n",
       "3        -0.087500  \n",
       "4        -0.700000  \n",
       "5         0.357143  \n",
       "6         0.604167  "
      ],
      "text/html": [
       "<div>\n",
       "<style scoped>\n",
       "    .dataframe tbody tr th:only-of-type {\n",
       "        vertical-align: middle;\n",
       "    }\n",
       "\n",
       "    .dataframe tbody tr th {\n",
       "        vertical-align: top;\n",
       "    }\n",
       "\n",
       "    .dataframe thead th {\n",
       "        text-align: right;\n",
       "    }\n",
       "</style>\n",
       "<table border=\"1\" class=\"dataframe\">\n",
       "  <thead>\n",
       "    <tr style=\"text-align: right;\">\n",
       "      <th></th>\n",
       "      <th>Day of Week</th>\n",
       "      <th>comments</th>\n",
       "      <th>mySentiment</th>\n",
       "      <th>textBlobScoring</th>\n",
       "    </tr>\n",
       "  </thead>\n",
       "  <tbody>\n",
       "    <tr>\n",
       "      <th>0</th>\n",
       "      <td>Monday</td>\n",
       "      <td>Hello, how are you?</td>\n",
       "      <td>Neutral</td>\n",
       "      <td>0.000000</td>\n",
       "    </tr>\n",
       "    <tr>\n",
       "      <th>1</th>\n",
       "      <td>Tuesday</td>\n",
       "      <td>Today is a good day!</td>\n",
       "      <td>Positive</td>\n",
       "      <td>0.875000</td>\n",
       "    </tr>\n",
       "    <tr>\n",
       "      <th>2</th>\n",
       "      <td>Wednesday</td>\n",
       "      <td>It's my birthday so it's a really special day!</td>\n",
       "      <td>Positive</td>\n",
       "      <td>0.446429</td>\n",
       "    </tr>\n",
       "    <tr>\n",
       "      <th>3</th>\n",
       "      <td>Thursday</td>\n",
       "      <td>Today is neither a good day or a bad day!</td>\n",
       "      <td>Neutral</td>\n",
       "      <td>-0.087500</td>\n",
       "    </tr>\n",
       "    <tr>\n",
       "      <th>4</th>\n",
       "      <td>Friday</td>\n",
       "      <td>I'm having a bad day.</td>\n",
       "      <td>Negative</td>\n",
       "      <td>-0.700000</td>\n",
       "    </tr>\n",
       "    <tr>\n",
       "      <th>5</th>\n",
       "      <td>Saturday</td>\n",
       "      <td>There' s nothing special happening today.</td>\n",
       "      <td>Neutral</td>\n",
       "      <td>0.357143</td>\n",
       "    </tr>\n",
       "    <tr>\n",
       "      <th>6</th>\n",
       "      <td>Sunday</td>\n",
       "      <td>Today is a SUPER good day!</td>\n",
       "      <td>Positive</td>\n",
       "      <td>0.604167</td>\n",
       "    </tr>\n",
       "  </tbody>\n",
       "</table>\n",
       "</div>"
      ]
     },
     "execution_count": 55,
     "metadata": {},
     "output_type": "execute_result"
    }
   ],
   "execution_count": 55
  },
  {
   "cell_type": "code",
   "metadata": {
    "ExecuteTime": {
     "end_time": "2025-02-08T21:27:05.405097Z",
     "start_time": "2025-02-08T21:27:05.399310Z"
    }
   },
   "source": [],
   "outputs": [],
   "execution_count": 57
  },
  {
   "cell_type": "markdown",
   "metadata": {},
   "source": [
    "## 3) Implement your sentiment analysis with code and display the results. Note: DailyComments.csv is a purposely small file, so you will be able to clearly see why the results are what they are."
   ]
  },
  {
   "cell_type": "markdown",
   "metadata": {},
   "source": [
    "Inspecting the results for each Sentiment Analysis, it would appear that the +/- 0.4 should suffice to give us the most accurate results across the board."
   ]
  },
  {
   "cell_type": "code",
   "metadata": {
    "ExecuteTime": {
     "end_time": "2025-02-08T21:27:11.504258Z",
     "start_time": "2025-02-08T21:27:11.494065Z"
    }
   },
   "source": [
    "import numpy as np"
   ],
   "outputs": [],
   "execution_count": 58
  },
  {
   "cell_type": "code",
   "metadata": {
    "ExecuteTime": {
     "end_time": "2025-02-08T21:27:12.144086Z",
     "start_time": "2025-02-08T21:27:12.136071Z"
    }
   },
   "source": [
    "def overallSentiment(value):\n",
    "    '''\n",
    "    Returns a categorical sentiment value of \"Positive\", \"Negative\", \n",
    "    or \"Neutral\" based on the provided sentiment score.\n",
    "    '''\n",
    "    if value >= 0.4:\n",
    "        return 'Positive'\n",
    "    elif value <= -0.4:\n",
    "        return 'Negative'\n",
    "    else:\n",
    "        return 'Neutral'\n",
    "    \n",
    "def sentimentCol(df, column):\n",
    "    '''\n",
    "    Creates a column for and assigns a sentiment value,\n",
    "    based on overall sentiment score for each comment.\n",
    "    '''\n",
    "    df['Sentiment'] = df[column].apply(lambda score: overallSentiment(score))\n",
    "    return df\n",
    "\n",
    "def accuracy(df):\n",
    "    '''\n",
    "    Assigns a score of 1 for each Sentiment that matches my assigned Sentiment.\n",
    "    Averages the scores and returns as a percentage correct for accuracy.\n",
    "    '''\n",
    "    score = np.mean(np.where(df['mySentiment'] == df['Sentiment'], 1, 0))\n",
    "    return score.round(2) * 100"
   ],
   "outputs": [],
   "execution_count": 59
  },
  {
   "cell_type": "markdown",
   "metadata": {},
   "source": [
    "### Manual Word Encoding Results"
   ]
  },
  {
   "cell_type": "code",
   "metadata": {
    "ExecuteTime": {
     "end_time": "2025-02-08T21:27:13.562934Z",
     "start_time": "2025-02-08T21:27:13.543530Z"
    }
   },
   "source": [
    "sentimentCol(encodingDF, 'encoderScoring')\n",
    "print(f'Overall accuracy: {accuracy(encodingDF)}%')\n",
    "encodingDF"
   ],
   "outputs": [
    {
     "name": "stdout",
     "output_type": "stream",
     "text": [
      "Overall accuracy: 86.0%\n"
     ]
    },
    {
     "data": {
      "text/plain": [
       "  Day of Week                                        comments mySentiment  \\\n",
       "0      Monday                             Hello, how are you?     Neutral   \n",
       "1     Tuesday                            Today is a good day!    Positive   \n",
       "2   Wednesday  It's my birthday so it's a really special day!    Positive   \n",
       "3    Thursday       Today is neither a good day or a bad day!     Neutral   \n",
       "4      Friday                           I'm having a bad day.    Negative   \n",
       "5    Saturday       There' s nothing special happening today.     Neutral   \n",
       "6      Sunday                      Today is a SUPER good day!    Positive   \n",
       "\n",
       "   positive1  positive2  negative  encoderScoring Sentiment  \n",
       "0          0          0         0               0   Neutral  \n",
       "1          1          0         0               1  Positive  \n",
       "2          0          1         0               1  Positive  \n",
       "3          1          0         1               0   Neutral  \n",
       "4          0          0         1              -1  Negative  \n",
       "5          0          1         0               1  Positive  \n",
       "6          1          0         0               1  Positive  "
      ],
      "text/html": [
       "<div>\n",
       "<style scoped>\n",
       "    .dataframe tbody tr th:only-of-type {\n",
       "        vertical-align: middle;\n",
       "    }\n",
       "\n",
       "    .dataframe tbody tr th {\n",
       "        vertical-align: top;\n",
       "    }\n",
       "\n",
       "    .dataframe thead th {\n",
       "        text-align: right;\n",
       "    }\n",
       "</style>\n",
       "<table border=\"1\" class=\"dataframe\">\n",
       "  <thead>\n",
       "    <tr style=\"text-align: right;\">\n",
       "      <th></th>\n",
       "      <th>Day of Week</th>\n",
       "      <th>comments</th>\n",
       "      <th>mySentiment</th>\n",
       "      <th>positive1</th>\n",
       "      <th>positive2</th>\n",
       "      <th>negative</th>\n",
       "      <th>encoderScoring</th>\n",
       "      <th>Sentiment</th>\n",
       "    </tr>\n",
       "  </thead>\n",
       "  <tbody>\n",
       "    <tr>\n",
       "      <th>0</th>\n",
       "      <td>Monday</td>\n",
       "      <td>Hello, how are you?</td>\n",
       "      <td>Neutral</td>\n",
       "      <td>0</td>\n",
       "      <td>0</td>\n",
       "      <td>0</td>\n",
       "      <td>0</td>\n",
       "      <td>Neutral</td>\n",
       "    </tr>\n",
       "    <tr>\n",
       "      <th>1</th>\n",
       "      <td>Tuesday</td>\n",
       "      <td>Today is a good day!</td>\n",
       "      <td>Positive</td>\n",
       "      <td>1</td>\n",
       "      <td>0</td>\n",
       "      <td>0</td>\n",
       "      <td>1</td>\n",
       "      <td>Positive</td>\n",
       "    </tr>\n",
       "    <tr>\n",
       "      <th>2</th>\n",
       "      <td>Wednesday</td>\n",
       "      <td>It's my birthday so it's a really special day!</td>\n",
       "      <td>Positive</td>\n",
       "      <td>0</td>\n",
       "      <td>1</td>\n",
       "      <td>0</td>\n",
       "      <td>1</td>\n",
       "      <td>Positive</td>\n",
       "    </tr>\n",
       "    <tr>\n",
       "      <th>3</th>\n",
       "      <td>Thursday</td>\n",
       "      <td>Today is neither a good day or a bad day!</td>\n",
       "      <td>Neutral</td>\n",
       "      <td>1</td>\n",
       "      <td>0</td>\n",
       "      <td>1</td>\n",
       "      <td>0</td>\n",
       "      <td>Neutral</td>\n",
       "    </tr>\n",
       "    <tr>\n",
       "      <th>4</th>\n",
       "      <td>Friday</td>\n",
       "      <td>I'm having a bad day.</td>\n",
       "      <td>Negative</td>\n",
       "      <td>0</td>\n",
       "      <td>0</td>\n",
       "      <td>1</td>\n",
       "      <td>-1</td>\n",
       "      <td>Negative</td>\n",
       "    </tr>\n",
       "    <tr>\n",
       "      <th>5</th>\n",
       "      <td>Saturday</td>\n",
       "      <td>There' s nothing special happening today.</td>\n",
       "      <td>Neutral</td>\n",
       "      <td>0</td>\n",
       "      <td>1</td>\n",
       "      <td>0</td>\n",
       "      <td>1</td>\n",
       "      <td>Positive</td>\n",
       "    </tr>\n",
       "    <tr>\n",
       "      <th>6</th>\n",
       "      <td>Sunday</td>\n",
       "      <td>Today is a SUPER good day!</td>\n",
       "      <td>Positive</td>\n",
       "      <td>1</td>\n",
       "      <td>0</td>\n",
       "      <td>0</td>\n",
       "      <td>1</td>\n",
       "      <td>Positive</td>\n",
       "    </tr>\n",
       "  </tbody>\n",
       "</table>\n",
       "</div>"
      ]
     },
     "execution_count": 60,
     "metadata": {},
     "output_type": "execute_result"
    }
   ],
   "execution_count": 60
  },
  {
   "cell_type": "markdown",
   "metadata": {},
   "source": [
    "### Vader Analysis Results"
   ]
  },
  {
   "cell_type": "code",
   "metadata": {
    "ExecuteTime": {
     "end_time": "2025-02-08T21:27:15.770161Z",
     "start_time": "2025-02-08T21:27:15.752670Z"
    }
   },
   "source": [
    "sentimentCol(vaderDF, 'vaderScoring')\n",
    "print(f'Overall accuracy: {accuracy(vaderDF)}%')\n",
    "vaderDF"
   ],
   "outputs": [
    {
     "name": "stdout",
     "output_type": "stream",
     "text": [
      "Overall accuracy: 86.0%\n"
     ]
    },
    {
     "data": {
      "text/plain": [
       "  Day of Week                                        comments mySentiment  \\\n",
       "0      Monday                             Hello, how are you?     Neutral   \n",
       "1     Tuesday                            Today is a good day!    Positive   \n",
       "2   Wednesday  It's my birthday so it's a really special day!    Positive   \n",
       "3    Thursday       Today is neither a good day or a bad day!     Neutral   \n",
       "4      Friday                           I'm having a bad day.    Negative   \n",
       "5    Saturday       There' s nothing special happening today.     Neutral   \n",
       "6      Sunday                      Today is a SUPER good day!    Positive   \n",
       "\n",
       "   negative  neutral  positive  vaderScoring Sentiment  \n",
       "0     0.000    1.000     0.000        0.0000   Neutral  \n",
       "1     0.000    0.484     0.516        0.4926  Positive  \n",
       "2     0.000    0.664     0.336        0.5497  Positive  \n",
       "3     0.508    0.492     0.000       -0.7350  Negative  \n",
       "4     0.538    0.462     0.000       -0.5423  Negative  \n",
       "5     0.361    0.639     0.000       -0.3089   Neutral  \n",
       "6     0.000    0.277     0.723        0.8327  Positive  "
      ],
      "text/html": [
       "<div>\n",
       "<style scoped>\n",
       "    .dataframe tbody tr th:only-of-type {\n",
       "        vertical-align: middle;\n",
       "    }\n",
       "\n",
       "    .dataframe tbody tr th {\n",
       "        vertical-align: top;\n",
       "    }\n",
       "\n",
       "    .dataframe thead th {\n",
       "        text-align: right;\n",
       "    }\n",
       "</style>\n",
       "<table border=\"1\" class=\"dataframe\">\n",
       "  <thead>\n",
       "    <tr style=\"text-align: right;\">\n",
       "      <th></th>\n",
       "      <th>Day of Week</th>\n",
       "      <th>comments</th>\n",
       "      <th>mySentiment</th>\n",
       "      <th>negative</th>\n",
       "      <th>neutral</th>\n",
       "      <th>positive</th>\n",
       "      <th>vaderScoring</th>\n",
       "      <th>Sentiment</th>\n",
       "    </tr>\n",
       "  </thead>\n",
       "  <tbody>\n",
       "    <tr>\n",
       "      <th>0</th>\n",
       "      <td>Monday</td>\n",
       "      <td>Hello, how are you?</td>\n",
       "      <td>Neutral</td>\n",
       "      <td>0.000</td>\n",
       "      <td>1.000</td>\n",
       "      <td>0.000</td>\n",
       "      <td>0.0000</td>\n",
       "      <td>Neutral</td>\n",
       "    </tr>\n",
       "    <tr>\n",
       "      <th>1</th>\n",
       "      <td>Tuesday</td>\n",
       "      <td>Today is a good day!</td>\n",
       "      <td>Positive</td>\n",
       "      <td>0.000</td>\n",
       "      <td>0.484</td>\n",
       "      <td>0.516</td>\n",
       "      <td>0.4926</td>\n",
       "      <td>Positive</td>\n",
       "    </tr>\n",
       "    <tr>\n",
       "      <th>2</th>\n",
       "      <td>Wednesday</td>\n",
       "      <td>It's my birthday so it's a really special day!</td>\n",
       "      <td>Positive</td>\n",
       "      <td>0.000</td>\n",
       "      <td>0.664</td>\n",
       "      <td>0.336</td>\n",
       "      <td>0.5497</td>\n",
       "      <td>Positive</td>\n",
       "    </tr>\n",
       "    <tr>\n",
       "      <th>3</th>\n",
       "      <td>Thursday</td>\n",
       "      <td>Today is neither a good day or a bad day!</td>\n",
       "      <td>Neutral</td>\n",
       "      <td>0.508</td>\n",
       "      <td>0.492</td>\n",
       "      <td>0.000</td>\n",
       "      <td>-0.7350</td>\n",
       "      <td>Negative</td>\n",
       "    </tr>\n",
       "    <tr>\n",
       "      <th>4</th>\n",
       "      <td>Friday</td>\n",
       "      <td>I'm having a bad day.</td>\n",
       "      <td>Negative</td>\n",
       "      <td>0.538</td>\n",
       "      <td>0.462</td>\n",
       "      <td>0.000</td>\n",
       "      <td>-0.5423</td>\n",
       "      <td>Negative</td>\n",
       "    </tr>\n",
       "    <tr>\n",
       "      <th>5</th>\n",
       "      <td>Saturday</td>\n",
       "      <td>There' s nothing special happening today.</td>\n",
       "      <td>Neutral</td>\n",
       "      <td>0.361</td>\n",
       "      <td>0.639</td>\n",
       "      <td>0.000</td>\n",
       "      <td>-0.3089</td>\n",
       "      <td>Neutral</td>\n",
       "    </tr>\n",
       "    <tr>\n",
       "      <th>6</th>\n",
       "      <td>Sunday</td>\n",
       "      <td>Today is a SUPER good day!</td>\n",
       "      <td>Positive</td>\n",
       "      <td>0.000</td>\n",
       "      <td>0.277</td>\n",
       "      <td>0.723</td>\n",
       "      <td>0.8327</td>\n",
       "      <td>Positive</td>\n",
       "    </tr>\n",
       "  </tbody>\n",
       "</table>\n",
       "</div>"
      ]
     },
     "execution_count": 61,
     "metadata": {},
     "output_type": "execute_result"
    }
   ],
   "execution_count": 61
  },
  {
   "cell_type": "markdown",
   "metadata": {},
   "source": [
    "### TextBlob Analysis Results"
   ]
  },
  {
   "cell_type": "code",
   "metadata": {
    "ExecuteTime": {
     "end_time": "2025-02-08T21:27:17.842497Z",
     "start_time": "2025-02-08T21:27:17.831599Z"
    }
   },
   "source": [
    "sentimentCol(textBlobDF, 'textBlobScoring')\n",
    "print(f'Overall accuracy: {accuracy(textBlobDF)}%')\n",
    "textBlobDF"
   ],
   "outputs": [
    {
     "name": "stdout",
     "output_type": "stream",
     "text": [
      "Overall accuracy: 100.0%\n"
     ]
    },
    {
     "data": {
      "text/plain": [
       "  Day of Week                                        comments mySentiment  \\\n",
       "0      Monday                             Hello, how are you?     Neutral   \n",
       "1     Tuesday                            Today is a good day!    Positive   \n",
       "2   Wednesday  It's my birthday so it's a really special day!    Positive   \n",
       "3    Thursday       Today is neither a good day or a bad day!     Neutral   \n",
       "4      Friday                           I'm having a bad day.    Negative   \n",
       "5    Saturday       There' s nothing special happening today.     Neutral   \n",
       "6      Sunday                      Today is a SUPER good day!    Positive   \n",
       "\n",
       "   textBlobScoring Sentiment  \n",
       "0         0.000000   Neutral  \n",
       "1         0.875000  Positive  \n",
       "2         0.446429  Positive  \n",
       "3        -0.087500   Neutral  \n",
       "4        -0.700000  Negative  \n",
       "5         0.357143   Neutral  \n",
       "6         0.604167  Positive  "
      ],
      "text/html": [
       "<div>\n",
       "<style scoped>\n",
       "    .dataframe tbody tr th:only-of-type {\n",
       "        vertical-align: middle;\n",
       "    }\n",
       "\n",
       "    .dataframe tbody tr th {\n",
       "        vertical-align: top;\n",
       "    }\n",
       "\n",
       "    .dataframe thead th {\n",
       "        text-align: right;\n",
       "    }\n",
       "</style>\n",
       "<table border=\"1\" class=\"dataframe\">\n",
       "  <thead>\n",
       "    <tr style=\"text-align: right;\">\n",
       "      <th></th>\n",
       "      <th>Day of Week</th>\n",
       "      <th>comments</th>\n",
       "      <th>mySentiment</th>\n",
       "      <th>textBlobScoring</th>\n",
       "      <th>Sentiment</th>\n",
       "    </tr>\n",
       "  </thead>\n",
       "  <tbody>\n",
       "    <tr>\n",
       "      <th>0</th>\n",
       "      <td>Monday</td>\n",
       "      <td>Hello, how are you?</td>\n",
       "      <td>Neutral</td>\n",
       "      <td>0.000000</td>\n",
       "      <td>Neutral</td>\n",
       "    </tr>\n",
       "    <tr>\n",
       "      <th>1</th>\n",
       "      <td>Tuesday</td>\n",
       "      <td>Today is a good day!</td>\n",
       "      <td>Positive</td>\n",
       "      <td>0.875000</td>\n",
       "      <td>Positive</td>\n",
       "    </tr>\n",
       "    <tr>\n",
       "      <th>2</th>\n",
       "      <td>Wednesday</td>\n",
       "      <td>It's my birthday so it's a really special day!</td>\n",
       "      <td>Positive</td>\n",
       "      <td>0.446429</td>\n",
       "      <td>Positive</td>\n",
       "    </tr>\n",
       "    <tr>\n",
       "      <th>3</th>\n",
       "      <td>Thursday</td>\n",
       "      <td>Today is neither a good day or a bad day!</td>\n",
       "      <td>Neutral</td>\n",
       "      <td>-0.087500</td>\n",
       "      <td>Neutral</td>\n",
       "    </tr>\n",
       "    <tr>\n",
       "      <th>4</th>\n",
       "      <td>Friday</td>\n",
       "      <td>I'm having a bad day.</td>\n",
       "      <td>Negative</td>\n",
       "      <td>-0.700000</td>\n",
       "      <td>Negative</td>\n",
       "    </tr>\n",
       "    <tr>\n",
       "      <th>5</th>\n",
       "      <td>Saturday</td>\n",
       "      <td>There' s nothing special happening today.</td>\n",
       "      <td>Neutral</td>\n",
       "      <td>0.357143</td>\n",
       "      <td>Neutral</td>\n",
       "    </tr>\n",
       "    <tr>\n",
       "      <th>6</th>\n",
       "      <td>Sunday</td>\n",
       "      <td>Today is a SUPER good day!</td>\n",
       "      <td>Positive</td>\n",
       "      <td>0.604167</td>\n",
       "      <td>Positive</td>\n",
       "    </tr>\n",
       "  </tbody>\n",
       "</table>\n",
       "</div>"
      ]
     },
     "execution_count": 62,
     "metadata": {},
     "output_type": "execute_result"
    }
   ],
   "execution_count": 62
  },
  {
   "cell_type": "code",
   "metadata": {
    "ExecuteTime": {
     "end_time": "2025-02-08T21:27:18.774967Z",
     "start_time": "2025-02-08T21:27:18.769566Z"
    }
   },
   "source": [],
   "outputs": [],
   "execution_count": 62
  },
  {
   "cell_type": "markdown",
   "metadata": {},
   "source": [
    "## 4) For up to 5% extra credit, find another set of comments, e.g., some tweets, and perform the same sentiment analysis."
   ]
  },
  {
   "cell_type": "code",
   "metadata": {
    "ExecuteTime": {
     "end_time": "2025-02-08T21:30:38.434433Z",
     "start_time": "2025-02-08T21:30:38.427553Z"
    }
   },
   "source": [
    "# Load a saved 15-comment subset of the Week 2 'Controversial Comments' data set\n",
    "newCommentsDF = pd.read_csv('./assignments-data/comments_subset.csv', header=1, names=['con', 'comments'])"
   ],
   "outputs": [],
   "execution_count": 67
  },
  {
   "cell_type": "code",
   "metadata": {
    "ExecuteTime": {
     "end_time": "2025-02-08T21:30:39.085349Z",
     "start_time": "2025-02-08T21:30:39.075002Z"
    }
   },
   "source": [
    "# Assign TextBlob scores for each comment\n",
    "newCommentsDF['textBlobScoring'] = newCommentsDF['comments'].apply(lambda x: TextBlob(x).polarity)\n",
    "# Assign categorical Sentiments based on TextBlob scores\n",
    "sentimentCol(newCommentsDF, 'textBlobScoring')\n",
    "newCommentsDF"
   ],
   "outputs": [
    {
     "data": {
      "text/plain": [
       "    con                                           comments  textBlobScoring  \\\n",
       "0     0  didn't this guy start the hunt for WMDs, that ...         0.000000   \n",
       "1     0  I remembered when he said that at the debate. ...         0.299167   \n",
       "2     0  Sorry, but the media isn't the reason there's ...        -0.366667   \n",
       "3     0  Censor everything I don't like!\\n\\nOnly leftis...        -0.025000   \n",
       "4     0  I think it's the pert where that's not true th...         0.243750   \n",
       "5     0  Oh, I get three guesses? That's great! I bet i...         0.400000   \n",
       "6     0  Some of you people might have to get actual jo...         0.000000   \n",
       "7     0  Oops, sorry.  Thought they said stein for some...        -0.500000   \n",
       "8     0  Maybe he was afraid of a Trump presidency targ...        -0.600000   \n",
       "9     0                        What is the false argument?        -0.400000   \n",
       "10    0  The swamp to him would be secularists, intelle...         0.000000   \n",
       "11    0  Probably because the US GOVT secretly brought ...        -0.400000   \n",
       "12    0  you got me, i see the big picture and have to ...        -0.066667   \n",
       "13    0  I wish that were close to the EV count differe...         0.000000   \n",
       "\n",
       "   Sentiment  \n",
       "0    Neutral  \n",
       "1    Neutral  \n",
       "2    Neutral  \n",
       "3    Neutral  \n",
       "4    Neutral  \n",
       "5   Positive  \n",
       "6    Neutral  \n",
       "7   Negative  \n",
       "8   Negative  \n",
       "9   Negative  \n",
       "10   Neutral  \n",
       "11  Negative  \n",
       "12   Neutral  \n",
       "13   Neutral  "
      ],
      "text/html": [
       "<div>\n",
       "<style scoped>\n",
       "    .dataframe tbody tr th:only-of-type {\n",
       "        vertical-align: middle;\n",
       "    }\n",
       "\n",
       "    .dataframe tbody tr th {\n",
       "        vertical-align: top;\n",
       "    }\n",
       "\n",
       "    .dataframe thead th {\n",
       "        text-align: right;\n",
       "    }\n",
       "</style>\n",
       "<table border=\"1\" class=\"dataframe\">\n",
       "  <thead>\n",
       "    <tr style=\"text-align: right;\">\n",
       "      <th></th>\n",
       "      <th>con</th>\n",
       "      <th>comments</th>\n",
       "      <th>textBlobScoring</th>\n",
       "      <th>Sentiment</th>\n",
       "    </tr>\n",
       "  </thead>\n",
       "  <tbody>\n",
       "    <tr>\n",
       "      <th>0</th>\n",
       "      <td>0</td>\n",
       "      <td>didn't this guy start the hunt for WMDs, that ...</td>\n",
       "      <td>0.000000</td>\n",
       "      <td>Neutral</td>\n",
       "    </tr>\n",
       "    <tr>\n",
       "      <th>1</th>\n",
       "      <td>0</td>\n",
       "      <td>I remembered when he said that at the debate. ...</td>\n",
       "      <td>0.299167</td>\n",
       "      <td>Neutral</td>\n",
       "    </tr>\n",
       "    <tr>\n",
       "      <th>2</th>\n",
       "      <td>0</td>\n",
       "      <td>Sorry, but the media isn't the reason there's ...</td>\n",
       "      <td>-0.366667</td>\n",
       "      <td>Neutral</td>\n",
       "    </tr>\n",
       "    <tr>\n",
       "      <th>3</th>\n",
       "      <td>0</td>\n",
       "      <td>Censor everything I don't like!\\n\\nOnly leftis...</td>\n",
       "      <td>-0.025000</td>\n",
       "      <td>Neutral</td>\n",
       "    </tr>\n",
       "    <tr>\n",
       "      <th>4</th>\n",
       "      <td>0</td>\n",
       "      <td>I think it's the pert where that's not true th...</td>\n",
       "      <td>0.243750</td>\n",
       "      <td>Neutral</td>\n",
       "    </tr>\n",
       "    <tr>\n",
       "      <th>5</th>\n",
       "      <td>0</td>\n",
       "      <td>Oh, I get three guesses? That's great! I bet i...</td>\n",
       "      <td>0.400000</td>\n",
       "      <td>Positive</td>\n",
       "    </tr>\n",
       "    <tr>\n",
       "      <th>6</th>\n",
       "      <td>0</td>\n",
       "      <td>Some of you people might have to get actual jo...</td>\n",
       "      <td>0.000000</td>\n",
       "      <td>Neutral</td>\n",
       "    </tr>\n",
       "    <tr>\n",
       "      <th>7</th>\n",
       "      <td>0</td>\n",
       "      <td>Oops, sorry.  Thought they said stein for some...</td>\n",
       "      <td>-0.500000</td>\n",
       "      <td>Negative</td>\n",
       "    </tr>\n",
       "    <tr>\n",
       "      <th>8</th>\n",
       "      <td>0</td>\n",
       "      <td>Maybe he was afraid of a Trump presidency targ...</td>\n",
       "      <td>-0.600000</td>\n",
       "      <td>Negative</td>\n",
       "    </tr>\n",
       "    <tr>\n",
       "      <th>9</th>\n",
       "      <td>0</td>\n",
       "      <td>What is the false argument?</td>\n",
       "      <td>-0.400000</td>\n",
       "      <td>Negative</td>\n",
       "    </tr>\n",
       "    <tr>\n",
       "      <th>10</th>\n",
       "      <td>0</td>\n",
       "      <td>The swamp to him would be secularists, intelle...</td>\n",
       "      <td>0.000000</td>\n",
       "      <td>Neutral</td>\n",
       "    </tr>\n",
       "    <tr>\n",
       "      <th>11</th>\n",
       "      <td>0</td>\n",
       "      <td>Probably because the US GOVT secretly brought ...</td>\n",
       "      <td>-0.400000</td>\n",
       "      <td>Negative</td>\n",
       "    </tr>\n",
       "    <tr>\n",
       "      <th>12</th>\n",
       "      <td>0</td>\n",
       "      <td>you got me, i see the big picture and have to ...</td>\n",
       "      <td>-0.066667</td>\n",
       "      <td>Neutral</td>\n",
       "    </tr>\n",
       "    <tr>\n",
       "      <th>13</th>\n",
       "      <td>0</td>\n",
       "      <td>I wish that were close to the EV count differe...</td>\n",
       "      <td>0.000000</td>\n",
       "      <td>Neutral</td>\n",
       "    </tr>\n",
       "  </tbody>\n",
       "</table>\n",
       "</div>"
      ]
     },
     "execution_count": 68,
     "metadata": {},
     "output_type": "execute_result"
    }
   ],
   "execution_count": 68
  },
  {
   "cell_type": "markdown",
   "metadata": {},
   "source": [
    "Only being able to see the first part of each tweet, it is difficult to determine the accuracy of each Sentiment assignment, but I'm not seeing very many positive, which I think would make sense in a \"Controversial Comments\" data set."
   ]
  },
  {
   "cell_type": "code",
   "metadata": {},
   "source": [],
   "outputs": [],
   "execution_count": null
  }
 ],
 "metadata": {
  "kernelspec": {
   "display_name": "Python 3",
   "language": "python",
   "name": "python3"
  },
  "language_info": {
   "codemirror_mode": {
    "name": "ipython",
    "version": 3
   },
   "file_extension": ".py",
   "mimetype": "text/x-python",
   "name": "python",
   "nbconvert_exporter": "python",
   "pygments_lexer": "ipython3",
   "version": "3.8.5"
  }
 },
 "nbformat": 4,
 "nbformat_minor": 4
}
