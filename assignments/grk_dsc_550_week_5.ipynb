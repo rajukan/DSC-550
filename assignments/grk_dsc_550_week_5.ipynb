{
 "cells": [
  {
   "cell_type": "markdown",
   "id": "3541a0f4",
   "metadata": {},
   "source": [
    "# Weeks 5 Exercises\n",
    "\n",
    "Name: grk <br>\n",
    "Course: DSC550 - Data Mining <br>\n"
   ]
  },
  {
   "cell_type": "markdown",
   "id": "cab191fa",
   "metadata": {},
   "source": [
    "### Build your own sentimental Analysis"
   ]
  },
  {
   "cell_type": "markdown",
   "id": "d2cf586d",
   "metadata": {},
   "source": [
    "You will build a model with the movie reviews dataset that you worked with in Week 3: Bag of Words Meets Bags of Popcorn. "
   ]
  },
  {
   "cell_type": "markdown",
   "id": "2898216c",
   "metadata": {},
   "source": [
    "#### 1. Get the stemmed data using the same process you did in Week 3."
   ]
  },
  {
   "cell_type": "code",
   "id": "3608cbd3",
   "metadata": {
    "ExecuteTime": {
     "end_time": "2024-11-10T03:19:49.282757Z",
     "start_time": "2024-11-10T03:19:47.175572Z"
    }
   },
   "source": [
    "## Importing the libraries required for this assignment\n",
    "\n",
    "import pandas as pd\n",
    "import numpy as np\n",
    "from textblob import TextBlob\n",
    "import re"
   ],
   "outputs": [],
   "execution_count": 1
  },
  {
   "cell_type": "code",
   "id": "90bf5efa",
   "metadata": {
    "ExecuteTime": {
     "end_time": "2024-11-10T03:19:55.095991Z",
     "start_time": "2024-11-10T03:19:54.677635Z"
    }
   },
   "source": [
    "## Import the csv file having movie review data into dataframe\n",
    "\n",
    "movie_df = pd.read_csv('./datasets/labeledTrainData.tsv',sep = '\\t') "
   ],
   "outputs": [],
   "execution_count": 2
  },
  {
   "cell_type": "code",
   "id": "62390004",
   "metadata": {
    "ExecuteTime": {
     "end_time": "2024-11-10T03:19:56.614199Z",
     "start_time": "2024-11-10T03:19:56.592002Z"
    }
   },
   "source": [
    "## Display few records in dataframe using head command\n",
    "\n",
    "movie_df.head()"
   ],
   "outputs": [
    {
     "data": {
      "text/plain": [
       "       id  sentiment                                             review\n",
       "0  5814_8          1  With all this stuff going down at the moment w...\n",
       "1  2381_9          1  \\The Classic War of the Worlds\\\" by Timothy Hi...\n",
       "2  7759_3          0  The film starts with a manager (Nicholas Bell)...\n",
       "3  3630_4          0  It must be assumed that those who praised this...\n",
       "4  9495_8          1  Superbly trashy and wondrously unpretentious 8..."
      ],
      "text/html": [
       "<div>\n",
       "<style scoped>\n",
       "    .dataframe tbody tr th:only-of-type {\n",
       "        vertical-align: middle;\n",
       "    }\n",
       "\n",
       "    .dataframe tbody tr th {\n",
       "        vertical-align: top;\n",
       "    }\n",
       "\n",
       "    .dataframe thead th {\n",
       "        text-align: right;\n",
       "    }\n",
       "</style>\n",
       "<table border=\"1\" class=\"dataframe\">\n",
       "  <thead>\n",
       "    <tr style=\"text-align: right;\">\n",
       "      <th></th>\n",
       "      <th>id</th>\n",
       "      <th>sentiment</th>\n",
       "      <th>review</th>\n",
       "    </tr>\n",
       "  </thead>\n",
       "  <tbody>\n",
       "    <tr>\n",
       "      <th>0</th>\n",
       "      <td>5814_8</td>\n",
       "      <td>1</td>\n",
       "      <td>With all this stuff going down at the moment w...</td>\n",
       "    </tr>\n",
       "    <tr>\n",
       "      <th>1</th>\n",
       "      <td>2381_9</td>\n",
       "      <td>1</td>\n",
       "      <td>\\The Classic War of the Worlds\\\" by Timothy Hi...</td>\n",
       "    </tr>\n",
       "    <tr>\n",
       "      <th>2</th>\n",
       "      <td>7759_3</td>\n",
       "      <td>0</td>\n",
       "      <td>The film starts with a manager (Nicholas Bell)...</td>\n",
       "    </tr>\n",
       "    <tr>\n",
       "      <th>3</th>\n",
       "      <td>3630_4</td>\n",
       "      <td>0</td>\n",
       "      <td>It must be assumed that those who praised this...</td>\n",
       "    </tr>\n",
       "    <tr>\n",
       "      <th>4</th>\n",
       "      <td>9495_8</td>\n",
       "      <td>1</td>\n",
       "      <td>Superbly trashy and wondrously unpretentious 8...</td>\n",
       "    </tr>\n",
       "  </tbody>\n",
       "</table>\n",
       "</div>"
      ]
     },
     "execution_count": 3,
     "metadata": {},
     "output_type": "execute_result"
    }
   ],
   "execution_count": 3
  },
  {
   "cell_type": "code",
   "id": "354c3251",
   "metadata": {
    "ExecuteTime": {
     "end_time": "2024-11-10T03:19:57.974123Z",
     "start_time": "2024-11-10T03:19:57.968606Z"
    }
   },
   "source": [
    "## Calculating total number of rows and columns using shape command\n",
    "\n",
    "print(\"Total number of rows and columns: {}\".format(movie_df.shape))"
   ],
   "outputs": [
    {
     "name": "stdout",
     "output_type": "stream",
     "text": [
      "Total number of rows and columns: (25000, 3)\n"
     ]
    }
   ],
   "execution_count": 4
  },
  {
   "cell_type": "code",
   "id": "439d418d",
   "metadata": {
    "ExecuteTime": {
     "end_time": "2024-11-10T03:20:25.948716Z",
     "start_time": "2024-11-10T03:19:59.800235Z"
    }
   },
   "source": [
    "## Classify each movie review as positive or negative \n",
    "## (assuming polarity greater than 0 is positive sentiment, and less than 0 is negative sentiment)\n",
    "\n",
    "movie_df[['polarity', 'subjectivity']] = movie_df['review'].apply(lambda Text: pd.Series(TextBlob(Text).sentiment))\n",
    "movie_df.head(5)"
   ],
   "outputs": [
    {
     "data": {
      "text/plain": [
       "       id  sentiment                                             review  \\\n",
       "0  5814_8          1  With all this stuff going down at the moment w...   \n",
       "1  2381_9          1  \\The Classic War of the Worlds\\\" by Timothy Hi...   \n",
       "2  7759_3          0  The film starts with a manager (Nicholas Bell)...   \n",
       "3  3630_4          0  It must be assumed that those who praised this...   \n",
       "4  9495_8          1  Superbly trashy and wondrously unpretentious 8...   \n",
       "\n",
       "   polarity  subjectivity  \n",
       "0  0.001277      0.606746  \n",
       "1  0.256349      0.531111  \n",
       "2 -0.053941      0.562933  \n",
       "3  0.134753      0.492901  \n",
       "4 -0.024842      0.459818  "
      ],
      "text/html": [
       "<div>\n",
       "<style scoped>\n",
       "    .dataframe tbody tr th:only-of-type {\n",
       "        vertical-align: middle;\n",
       "    }\n",
       "\n",
       "    .dataframe tbody tr th {\n",
       "        vertical-align: top;\n",
       "    }\n",
       "\n",
       "    .dataframe thead th {\n",
       "        text-align: right;\n",
       "    }\n",
       "</style>\n",
       "<table border=\"1\" class=\"dataframe\">\n",
       "  <thead>\n",
       "    <tr style=\"text-align: right;\">\n",
       "      <th></th>\n",
       "      <th>id</th>\n",
       "      <th>sentiment</th>\n",
       "      <th>review</th>\n",
       "      <th>polarity</th>\n",
       "      <th>subjectivity</th>\n",
       "    </tr>\n",
       "  </thead>\n",
       "  <tbody>\n",
       "    <tr>\n",
       "      <th>0</th>\n",
       "      <td>5814_8</td>\n",
       "      <td>1</td>\n",
       "      <td>With all this stuff going down at the moment w...</td>\n",
       "      <td>0.001277</td>\n",
       "      <td>0.606746</td>\n",
       "    </tr>\n",
       "    <tr>\n",
       "      <th>1</th>\n",
       "      <td>2381_9</td>\n",
       "      <td>1</td>\n",
       "      <td>\\The Classic War of the Worlds\\\" by Timothy Hi...</td>\n",
       "      <td>0.256349</td>\n",
       "      <td>0.531111</td>\n",
       "    </tr>\n",
       "    <tr>\n",
       "      <th>2</th>\n",
       "      <td>7759_3</td>\n",
       "      <td>0</td>\n",
       "      <td>The film starts with a manager (Nicholas Bell)...</td>\n",
       "      <td>-0.053941</td>\n",
       "      <td>0.562933</td>\n",
       "    </tr>\n",
       "    <tr>\n",
       "      <th>3</th>\n",
       "      <td>3630_4</td>\n",
       "      <td>0</td>\n",
       "      <td>It must be assumed that those who praised this...</td>\n",
       "      <td>0.134753</td>\n",
       "      <td>0.492901</td>\n",
       "    </tr>\n",
       "    <tr>\n",
       "      <th>4</th>\n",
       "      <td>9495_8</td>\n",
       "      <td>1</td>\n",
       "      <td>Superbly trashy and wondrously unpretentious 8...</td>\n",
       "      <td>-0.024842</td>\n",
       "      <td>0.459818</td>\n",
       "    </tr>\n",
       "  </tbody>\n",
       "</table>\n",
       "</div>"
      ]
     },
     "execution_count": 5,
     "metadata": {},
     "output_type": "execute_result"
    }
   ],
   "execution_count": 5
  },
  {
   "cell_type": "code",
   "id": "98b725de",
   "metadata": {
    "ExecuteTime": {
     "end_time": "2024-11-10T03:20:25.962594Z",
     "start_time": "2024-11-10T03:20:25.948716Z"
    }
   },
   "source": [
    "## Create textblob_score column based on the polarity column\n",
    "\n",
    "movie_df['textblob_score'] = movie_df['polarity'].apply(lambda x: 1 if x > 0 else 0)\n",
    "movie_df.head(5)"
   ],
   "outputs": [
    {
     "data": {
      "text/plain": [
       "       id  sentiment                                             review  \\\n",
       "0  5814_8          1  With all this stuff going down at the moment w...   \n",
       "1  2381_9          1  \\The Classic War of the Worlds\\\" by Timothy Hi...   \n",
       "2  7759_3          0  The film starts with a manager (Nicholas Bell)...   \n",
       "3  3630_4          0  It must be assumed that those who praised this...   \n",
       "4  9495_8          1  Superbly trashy and wondrously unpretentious 8...   \n",
       "\n",
       "   polarity  subjectivity  textblob_score  \n",
       "0  0.001277      0.606746               1  \n",
       "1  0.256349      0.531111               1  \n",
       "2 -0.053941      0.562933               0  \n",
       "3  0.134753      0.492901               1  \n",
       "4 -0.024842      0.459818               0  "
      ],
      "text/html": [
       "<div>\n",
       "<style scoped>\n",
       "    .dataframe tbody tr th:only-of-type {\n",
       "        vertical-align: middle;\n",
       "    }\n",
       "\n",
       "    .dataframe tbody tr th {\n",
       "        vertical-align: top;\n",
       "    }\n",
       "\n",
       "    .dataframe thead th {\n",
       "        text-align: right;\n",
       "    }\n",
       "</style>\n",
       "<table border=\"1\" class=\"dataframe\">\n",
       "  <thead>\n",
       "    <tr style=\"text-align: right;\">\n",
       "      <th></th>\n",
       "      <th>id</th>\n",
       "      <th>sentiment</th>\n",
       "      <th>review</th>\n",
       "      <th>polarity</th>\n",
       "      <th>subjectivity</th>\n",
       "      <th>textblob_score</th>\n",
       "    </tr>\n",
       "  </thead>\n",
       "  <tbody>\n",
       "    <tr>\n",
       "      <th>0</th>\n",
       "      <td>5814_8</td>\n",
       "      <td>1</td>\n",
       "      <td>With all this stuff going down at the moment w...</td>\n",
       "      <td>0.001277</td>\n",
       "      <td>0.606746</td>\n",
       "      <td>1</td>\n",
       "    </tr>\n",
       "    <tr>\n",
       "      <th>1</th>\n",
       "      <td>2381_9</td>\n",
       "      <td>1</td>\n",
       "      <td>\\The Classic War of the Worlds\\\" by Timothy Hi...</td>\n",
       "      <td>0.256349</td>\n",
       "      <td>0.531111</td>\n",
       "      <td>1</td>\n",
       "    </tr>\n",
       "    <tr>\n",
       "      <th>2</th>\n",
       "      <td>7759_3</td>\n",
       "      <td>0</td>\n",
       "      <td>The film starts with a manager (Nicholas Bell)...</td>\n",
       "      <td>-0.053941</td>\n",
       "      <td>0.562933</td>\n",
       "      <td>0</td>\n",
       "    </tr>\n",
       "    <tr>\n",
       "      <th>3</th>\n",
       "      <td>3630_4</td>\n",
       "      <td>0</td>\n",
       "      <td>It must be assumed that those who praised this...</td>\n",
       "      <td>0.134753</td>\n",
       "      <td>0.492901</td>\n",
       "      <td>1</td>\n",
       "    </tr>\n",
       "    <tr>\n",
       "      <th>4</th>\n",
       "      <td>9495_8</td>\n",
       "      <td>1</td>\n",
       "      <td>Superbly trashy and wondrously unpretentious 8...</td>\n",
       "      <td>-0.024842</td>\n",
       "      <td>0.459818</td>\n",
       "      <td>0</td>\n",
       "    </tr>\n",
       "  </tbody>\n",
       "</table>\n",
       "</div>"
      ]
     },
     "execution_count": 6,
     "metadata": {},
     "output_type": "execute_result"
    }
   ],
   "execution_count": 6
  },
  {
   "cell_type": "code",
   "execution_count": 7,
   "id": "c38b5484",
   "metadata": {},
   "outputs": [],
   "source": [
    "## Creating a function for cleaning the text\n",
    "## This function gets the input sentence and convert it to lower and remove punctuation\n",
    "def text_clean(sentence):\n",
    "    \n",
    "    sentence = sentence.lower() ## Convert the text to lower \n",
    "    sentence = re.sub(r'[^\\w\\s]+|_', '',sentence) ## Remove all non-numeric characters\n",
    "    sentence = re.sub(r'\\s\\s', ' ',sentence) ## Removing extra space\n",
    "    \n",
    "    return sentence"
   ]
  },
  {
   "cell_type": "code",
   "execution_count": 8,
   "id": "70ce1e41",
   "metadata": {},
   "outputs": [
    {
     "data": {
      "text/html": [
       "<div>\n",
       "<style scoped>\n",
       "    .dataframe tbody tr th:only-of-type {\n",
       "        vertical-align: middle;\n",
       "    }\n",
       "\n",
       "    .dataframe tbody tr th {\n",
       "        vertical-align: top;\n",
       "    }\n",
       "\n",
       "    .dataframe thead th {\n",
       "        text-align: right;\n",
       "    }\n",
       "</style>\n",
       "<table border=\"1\" class=\"dataframe\">\n",
       "  <thead>\n",
       "    <tr style=\"text-align: right;\">\n",
       "      <th></th>\n",
       "      <th>id</th>\n",
       "      <th>sentiment</th>\n",
       "      <th>review</th>\n",
       "      <th>polarity</th>\n",
       "      <th>subjectivity</th>\n",
       "      <th>textblob_score</th>\n",
       "      <th>review_clean</th>\n",
       "    </tr>\n",
       "  </thead>\n",
       "  <tbody>\n",
       "    <tr>\n",
       "      <th>0</th>\n",
       "      <td>5814_8</td>\n",
       "      <td>1</td>\n",
       "      <td>With all this stuff going down at the moment w...</td>\n",
       "      <td>0.001277</td>\n",
       "      <td>0.606746</td>\n",
       "      <td>1</td>\n",
       "      <td>with all this stuff going down at the moment w...</td>\n",
       "    </tr>\n",
       "    <tr>\n",
       "      <th>1</th>\n",
       "      <td>2381_9</td>\n",
       "      <td>1</td>\n",
       "      <td>\\The Classic War of the Worlds\\\" by Timothy Hi...</td>\n",
       "      <td>0.256349</td>\n",
       "      <td>0.531111</td>\n",
       "      <td>1</td>\n",
       "      <td>the classic war of the worlds by timothy hines...</td>\n",
       "    </tr>\n",
       "    <tr>\n",
       "      <th>2</th>\n",
       "      <td>7759_3</td>\n",
       "      <td>0</td>\n",
       "      <td>The film starts with a manager (Nicholas Bell)...</td>\n",
       "      <td>-0.053941</td>\n",
       "      <td>0.562933</td>\n",
       "      <td>0</td>\n",
       "      <td>the film starts with a manager nicholas bell g...</td>\n",
       "    </tr>\n",
       "    <tr>\n",
       "      <th>3</th>\n",
       "      <td>3630_4</td>\n",
       "      <td>0</td>\n",
       "      <td>It must be assumed that those who praised this...</td>\n",
       "      <td>0.134753</td>\n",
       "      <td>0.492901</td>\n",
       "      <td>1</td>\n",
       "      <td>it must be assumed that those who praised this...</td>\n",
       "    </tr>\n",
       "    <tr>\n",
       "      <th>4</th>\n",
       "      <td>9495_8</td>\n",
       "      <td>1</td>\n",
       "      <td>Superbly trashy and wondrously unpretentious 8...</td>\n",
       "      <td>-0.024842</td>\n",
       "      <td>0.459818</td>\n",
       "      <td>0</td>\n",
       "      <td>superbly trashy and wondrously unpretentious 8...</td>\n",
       "    </tr>\n",
       "  </tbody>\n",
       "</table>\n",
       "</div>"
      ],
      "text/plain": [
       "       id  sentiment                                             review  \\\n",
       "0  5814_8          1  With all this stuff going down at the moment w...   \n",
       "1  2381_9          1  \\The Classic War of the Worlds\\\" by Timothy Hi...   \n",
       "2  7759_3          0  The film starts with a manager (Nicholas Bell)...   \n",
       "3  3630_4          0  It must be assumed that those who praised this...   \n",
       "4  9495_8          1  Superbly trashy and wondrously unpretentious 8...   \n",
       "\n",
       "   polarity  subjectivity  textblob_score  \\\n",
       "0  0.001277      0.606746               1   \n",
       "1  0.256349      0.531111               1   \n",
       "2 -0.053941      0.562933               0   \n",
       "3  0.134753      0.492901               1   \n",
       "4 -0.024842      0.459818               0   \n",
       "\n",
       "                                        review_clean  \n",
       "0  with all this stuff going down at the moment w...  \n",
       "1  the classic war of the worlds by timothy hines...  \n",
       "2  the film starts with a manager nicholas bell g...  \n",
       "3  it must be assumed that those who praised this...  \n",
       "4  superbly trashy and wondrously unpretentious 8...  "
      ]
     },
     "execution_count": 8,
     "metadata": {},
     "output_type": "execute_result"
    }
   ],
   "source": [
    "## Coverting text present in the \"review\" column to lower case and printing few values using head command\n",
    "movie_df['review_clean'] = movie_df['review'].apply(text_clean)\n",
    "movie_df.head()"
   ]
  },
  {
   "cell_type": "code",
   "execution_count": 9,
   "id": "c57b915d",
   "metadata": {},
   "outputs": [
    {
     "name": "stderr",
     "output_type": "stream",
     "text": [
      "[nltk_data] Error loading stopwords: <urlopen error [WinError 10054]\n",
      "[nltk_data]     An existing connection was forcibly closed by the\n",
      "[nltk_data]     remote host>\n",
      "[nltk_data] Downloading package punkt to\n",
      "[nltk_data]     C:\\Users\\KesavAdithya\\AppData\\Roaming\\nltk_data...\n",
      "[nltk_data]   Package punkt is already up-to-date!\n"
     ]
    }
   ],
   "source": [
    "## import nltk module and download stop words\n",
    "import nltk\n",
    "nltk.download('stopwords')\n",
    "nltk.download('punkt')\n",
    "from nltk.tokenize import word_tokenize"
   ]
  },
  {
   "cell_type": "code",
   "execution_count": 10,
   "id": "331e25ce",
   "metadata": {},
   "outputs": [
    {
     "data": {
      "text/html": [
       "<div>\n",
       "<style scoped>\n",
       "    .dataframe tbody tr th:only-of-type {\n",
       "        vertical-align: middle;\n",
       "    }\n",
       "\n",
       "    .dataframe tbody tr th {\n",
       "        vertical-align: top;\n",
       "    }\n",
       "\n",
       "    .dataframe thead th {\n",
       "        text-align: right;\n",
       "    }\n",
       "</style>\n",
       "<table border=\"1\" class=\"dataframe\">\n",
       "  <thead>\n",
       "    <tr style=\"text-align: right;\">\n",
       "      <th></th>\n",
       "      <th>id</th>\n",
       "      <th>sentiment</th>\n",
       "      <th>review</th>\n",
       "      <th>polarity</th>\n",
       "      <th>subjectivity</th>\n",
       "      <th>textblob_score</th>\n",
       "      <th>review_clean</th>\n",
       "      <th>review_token</th>\n",
       "    </tr>\n",
       "  </thead>\n",
       "  <tbody>\n",
       "    <tr>\n",
       "      <th>0</th>\n",
       "      <td>5814_8</td>\n",
       "      <td>1</td>\n",
       "      <td>With all this stuff going down at the moment w...</td>\n",
       "      <td>0.001277</td>\n",
       "      <td>0.606746</td>\n",
       "      <td>1</td>\n",
       "      <td>with all this stuff going down at the moment w...</td>\n",
       "      <td>[with, all, this, stuff, going, down, at, the,...</td>\n",
       "    </tr>\n",
       "    <tr>\n",
       "      <th>1</th>\n",
       "      <td>2381_9</td>\n",
       "      <td>1</td>\n",
       "      <td>\\The Classic War of the Worlds\\\" by Timothy Hi...</td>\n",
       "      <td>0.256349</td>\n",
       "      <td>0.531111</td>\n",
       "      <td>1</td>\n",
       "      <td>the classic war of the worlds by timothy hines...</td>\n",
       "      <td>[the, classic, war, of, the, worlds, by, timot...</td>\n",
       "    </tr>\n",
       "    <tr>\n",
       "      <th>2</th>\n",
       "      <td>7759_3</td>\n",
       "      <td>0</td>\n",
       "      <td>The film starts with a manager (Nicholas Bell)...</td>\n",
       "      <td>-0.053941</td>\n",
       "      <td>0.562933</td>\n",
       "      <td>0</td>\n",
       "      <td>the film starts with a manager nicholas bell g...</td>\n",
       "      <td>[the, film, starts, with, a, manager, nicholas...</td>\n",
       "    </tr>\n",
       "    <tr>\n",
       "      <th>3</th>\n",
       "      <td>3630_4</td>\n",
       "      <td>0</td>\n",
       "      <td>It must be assumed that those who praised this...</td>\n",
       "      <td>0.134753</td>\n",
       "      <td>0.492901</td>\n",
       "      <td>1</td>\n",
       "      <td>it must be assumed that those who praised this...</td>\n",
       "      <td>[it, must, be, assumed, that, those, who, prai...</td>\n",
       "    </tr>\n",
       "    <tr>\n",
       "      <th>4</th>\n",
       "      <td>9495_8</td>\n",
       "      <td>1</td>\n",
       "      <td>Superbly trashy and wondrously unpretentious 8...</td>\n",
       "      <td>-0.024842</td>\n",
       "      <td>0.459818</td>\n",
       "      <td>0</td>\n",
       "      <td>superbly trashy and wondrously unpretentious 8...</td>\n",
       "      <td>[superbly, trashy, and, wondrously, unpretenti...</td>\n",
       "    </tr>\n",
       "  </tbody>\n",
       "</table>\n",
       "</div>"
      ],
      "text/plain": [
       "       id  sentiment                                             review  \\\n",
       "0  5814_8          1  With all this stuff going down at the moment w...   \n",
       "1  2381_9          1  \\The Classic War of the Worlds\\\" by Timothy Hi...   \n",
       "2  7759_3          0  The film starts with a manager (Nicholas Bell)...   \n",
       "3  3630_4          0  It must be assumed that those who praised this...   \n",
       "4  9495_8          1  Superbly trashy and wondrously unpretentious 8...   \n",
       "\n",
       "   polarity  subjectivity  textblob_score  \\\n",
       "0  0.001277      0.606746               1   \n",
       "1  0.256349      0.531111               1   \n",
       "2 -0.053941      0.562933               0   \n",
       "3  0.134753      0.492901               1   \n",
       "4 -0.024842      0.459818               0   \n",
       "\n",
       "                                        review_clean  \\\n",
       "0  with all this stuff going down at the moment w...   \n",
       "1  the classic war of the worlds by timothy hines...   \n",
       "2  the film starts with a manager nicholas bell g...   \n",
       "3  it must be assumed that those who praised this...   \n",
       "4  superbly trashy and wondrously unpretentious 8...   \n",
       "\n",
       "                                        review_token  \n",
       "0  [with, all, this, stuff, going, down, at, the,...  \n",
       "1  [the, classic, war, of, the, worlds, by, timot...  \n",
       "2  [the, film, starts, with, a, manager, nicholas...  \n",
       "3  [it, must, be, assumed, that, those, who, prai...  \n",
       "4  [superbly, trashy, and, wondrously, unpretenti...  "
      ]
     },
     "execution_count": 10,
     "metadata": {},
     "output_type": "execute_result"
    }
   ],
   "source": [
    "## Create a new column and apply tokenize function\n",
    "\n",
    "def tokenize(text):\n",
    "    text = word_tokenize(text)\n",
    "    return text\n",
    "    \n",
    "movie_df['review_token'] = movie_df['review_clean'].apply(tokenize)\n",
    "movie_df.head()"
   ]
  },
  {
   "cell_type": "code",
   "execution_count": 11,
   "id": "23e38b66",
   "metadata": {},
   "outputs": [
    {
     "data": {
      "text/html": [
       "<div>\n",
       "<style scoped>\n",
       "    .dataframe tbody tr th:only-of-type {\n",
       "        vertical-align: middle;\n",
       "    }\n",
       "\n",
       "    .dataframe tbody tr th {\n",
       "        vertical-align: top;\n",
       "    }\n",
       "\n",
       "    .dataframe thead th {\n",
       "        text-align: right;\n",
       "    }\n",
       "</style>\n",
       "<table border=\"1\" class=\"dataframe\">\n",
       "  <thead>\n",
       "    <tr style=\"text-align: right;\">\n",
       "      <th></th>\n",
       "      <th>id</th>\n",
       "      <th>sentiment</th>\n",
       "      <th>review</th>\n",
       "      <th>polarity</th>\n",
       "      <th>subjectivity</th>\n",
       "      <th>textblob_score</th>\n",
       "      <th>review_clean</th>\n",
       "      <th>review_token</th>\n",
       "      <th>review_stop</th>\n",
       "    </tr>\n",
       "  </thead>\n",
       "  <tbody>\n",
       "    <tr>\n",
       "      <th>0</th>\n",
       "      <td>5814_8</td>\n",
       "      <td>1</td>\n",
       "      <td>With all this stuff going down at the moment w...</td>\n",
       "      <td>0.001277</td>\n",
       "      <td>0.606746</td>\n",
       "      <td>1</td>\n",
       "      <td>with all this stuff going down at the moment w...</td>\n",
       "      <td>[with, all, this, stuff, going, down, at, the,...</td>\n",
       "      <td>[stuff, going, moment, mj, ive, started, liste...</td>\n",
       "    </tr>\n",
       "    <tr>\n",
       "      <th>1</th>\n",
       "      <td>2381_9</td>\n",
       "      <td>1</td>\n",
       "      <td>\\The Classic War of the Worlds\\\" by Timothy Hi...</td>\n",
       "      <td>0.256349</td>\n",
       "      <td>0.531111</td>\n",
       "      <td>1</td>\n",
       "      <td>the classic war of the worlds by timothy hines...</td>\n",
       "      <td>[the, classic, war, of, the, worlds, by, timot...</td>\n",
       "      <td>[classic, war, worlds, timothy, hines, enterta...</td>\n",
       "    </tr>\n",
       "    <tr>\n",
       "      <th>2</th>\n",
       "      <td>7759_3</td>\n",
       "      <td>0</td>\n",
       "      <td>The film starts with a manager (Nicholas Bell)...</td>\n",
       "      <td>-0.053941</td>\n",
       "      <td>0.562933</td>\n",
       "      <td>0</td>\n",
       "      <td>the film starts with a manager nicholas bell g...</td>\n",
       "      <td>[the, film, starts, with, a, manager, nicholas...</td>\n",
       "      <td>[film, starts, manager, nicholas, bell, giving...</td>\n",
       "    </tr>\n",
       "    <tr>\n",
       "      <th>3</th>\n",
       "      <td>3630_4</td>\n",
       "      <td>0</td>\n",
       "      <td>It must be assumed that those who praised this...</td>\n",
       "      <td>0.134753</td>\n",
       "      <td>0.492901</td>\n",
       "      <td>1</td>\n",
       "      <td>it must be assumed that those who praised this...</td>\n",
       "      <td>[it, must, be, assumed, that, those, who, prai...</td>\n",
       "      <td>[must, assumed, praised, film, greatest, filme...</td>\n",
       "    </tr>\n",
       "    <tr>\n",
       "      <th>4</th>\n",
       "      <td>9495_8</td>\n",
       "      <td>1</td>\n",
       "      <td>Superbly trashy and wondrously unpretentious 8...</td>\n",
       "      <td>-0.024842</td>\n",
       "      <td>0.459818</td>\n",
       "      <td>0</td>\n",
       "      <td>superbly trashy and wondrously unpretentious 8...</td>\n",
       "      <td>[superbly, trashy, and, wondrously, unpretenti...</td>\n",
       "      <td>[superbly, trashy, wondrously, unpretentious, ...</td>\n",
       "    </tr>\n",
       "  </tbody>\n",
       "</table>\n",
       "</div>"
      ],
      "text/plain": [
       "       id  sentiment                                             review  \\\n",
       "0  5814_8          1  With all this stuff going down at the moment w...   \n",
       "1  2381_9          1  \\The Classic War of the Worlds\\\" by Timothy Hi...   \n",
       "2  7759_3          0  The film starts with a manager (Nicholas Bell)...   \n",
       "3  3630_4          0  It must be assumed that those who praised this...   \n",
       "4  9495_8          1  Superbly trashy and wondrously unpretentious 8...   \n",
       "\n",
       "   polarity  subjectivity  textblob_score  \\\n",
       "0  0.001277      0.606746               1   \n",
       "1  0.256349      0.531111               1   \n",
       "2 -0.053941      0.562933               0   \n",
       "3  0.134753      0.492901               1   \n",
       "4 -0.024842      0.459818               0   \n",
       "\n",
       "                                        review_clean  \\\n",
       "0  with all this stuff going down at the moment w...   \n",
       "1  the classic war of the worlds by timothy hines...   \n",
       "2  the film starts with a manager nicholas bell g...   \n",
       "3  it must be assumed that those who praised this...   \n",
       "4  superbly trashy and wondrously unpretentious 8...   \n",
       "\n",
       "                                        review_token  \\\n",
       "0  [with, all, this, stuff, going, down, at, the,...   \n",
       "1  [the, classic, war, of, the, worlds, by, timot...   \n",
       "2  [the, film, starts, with, a, manager, nicholas...   \n",
       "3  [it, must, be, assumed, that, those, who, prai...   \n",
       "4  [superbly, trashy, and, wondrously, unpretenti...   \n",
       "\n",
       "                                         review_stop  \n",
       "0  [stuff, going, moment, mj, ive, started, liste...  \n",
       "1  [classic, war, worlds, timothy, hines, enterta...  \n",
       "2  [film, starts, manager, nicholas, bell, giving...  \n",
       "3  [must, assumed, praised, film, greatest, filme...  \n",
       "4  [superbly, trashy, wondrously, unpretentious, ...  "
      ]
     },
     "execution_count": 11,
     "metadata": {},
     "output_type": "execute_result"
    }
   ],
   "source": [
    "# Exclude stopwords with Python's list comprehension and pandas using Dataframe apply\n",
    "from nltk.corpus import stopwords\n",
    "stop = stopwords.words('english')\n",
    "movie_df['review_stop'] = movie_df['review_token'].apply(lambda x: [word for word in x if word not in (stop)])\n",
    "movie_df.head()"
   ]
  },
  {
   "cell_type": "code",
   "execution_count": 12,
   "id": "ae77643b",
   "metadata": {},
   "outputs": [],
   "source": [
    "## Import the module required for PorterStemmer\n",
    "from nltk.stem import PorterStemmer\n",
    "porter_stemmer = PorterStemmer() #create porter_stemmer variable"
   ]
  },
  {
   "cell_type": "code",
   "execution_count": 13,
   "id": "c0ea15d9",
   "metadata": {},
   "outputs": [
    {
     "data": {
      "text/html": [
       "<div>\n",
       "<style scoped>\n",
       "    .dataframe tbody tr th:only-of-type {\n",
       "        vertical-align: middle;\n",
       "    }\n",
       "\n",
       "    .dataframe tbody tr th {\n",
       "        vertical-align: top;\n",
       "    }\n",
       "\n",
       "    .dataframe thead th {\n",
       "        text-align: right;\n",
       "    }\n",
       "</style>\n",
       "<table border=\"1\" class=\"dataframe\">\n",
       "  <thead>\n",
       "    <tr style=\"text-align: right;\">\n",
       "      <th></th>\n",
       "      <th>id</th>\n",
       "      <th>sentiment</th>\n",
       "      <th>review</th>\n",
       "      <th>polarity</th>\n",
       "      <th>subjectivity</th>\n",
       "      <th>textblob_score</th>\n",
       "      <th>review_clean</th>\n",
       "      <th>review_token</th>\n",
       "      <th>review_stop</th>\n",
       "      <th>review_stemmed</th>\n",
       "    </tr>\n",
       "  </thead>\n",
       "  <tbody>\n",
       "    <tr>\n",
       "      <th>0</th>\n",
       "      <td>5814_8</td>\n",
       "      <td>1</td>\n",
       "      <td>With all this stuff going down at the moment w...</td>\n",
       "      <td>0.001277</td>\n",
       "      <td>0.606746</td>\n",
       "      <td>1</td>\n",
       "      <td>with all this stuff going down at the moment w...</td>\n",
       "      <td>[with, all, this, stuff, going, down, at, the,...</td>\n",
       "      <td>[stuff, going, moment, mj, ive, started, liste...</td>\n",
       "      <td>[stuff, go, moment, mj, ive, start, listen, mu...</td>\n",
       "    </tr>\n",
       "    <tr>\n",
       "      <th>1</th>\n",
       "      <td>2381_9</td>\n",
       "      <td>1</td>\n",
       "      <td>\\The Classic War of the Worlds\\\" by Timothy Hi...</td>\n",
       "      <td>0.256349</td>\n",
       "      <td>0.531111</td>\n",
       "      <td>1</td>\n",
       "      <td>the classic war of the worlds by timothy hines...</td>\n",
       "      <td>[the, classic, war, of, the, worlds, by, timot...</td>\n",
       "      <td>[classic, war, worlds, timothy, hines, enterta...</td>\n",
       "      <td>[classic, war, world, timothi, hine, entertain...</td>\n",
       "    </tr>\n",
       "    <tr>\n",
       "      <th>2</th>\n",
       "      <td>7759_3</td>\n",
       "      <td>0</td>\n",
       "      <td>The film starts with a manager (Nicholas Bell)...</td>\n",
       "      <td>-0.053941</td>\n",
       "      <td>0.562933</td>\n",
       "      <td>0</td>\n",
       "      <td>the film starts with a manager nicholas bell g...</td>\n",
       "      <td>[the, film, starts, with, a, manager, nicholas...</td>\n",
       "      <td>[film, starts, manager, nicholas, bell, giving...</td>\n",
       "      <td>[film, start, manag, nichola, bell, give, welc...</td>\n",
       "    </tr>\n",
       "    <tr>\n",
       "      <th>3</th>\n",
       "      <td>3630_4</td>\n",
       "      <td>0</td>\n",
       "      <td>It must be assumed that those who praised this...</td>\n",
       "      <td>0.134753</td>\n",
       "      <td>0.492901</td>\n",
       "      <td>1</td>\n",
       "      <td>it must be assumed that those who praised this...</td>\n",
       "      <td>[it, must, be, assumed, that, those, who, prai...</td>\n",
       "      <td>[must, assumed, praised, film, greatest, filme...</td>\n",
       "      <td>[must, assum, prais, film, greatest, film, ope...</td>\n",
       "    </tr>\n",
       "    <tr>\n",
       "      <th>4</th>\n",
       "      <td>9495_8</td>\n",
       "      <td>1</td>\n",
       "      <td>Superbly trashy and wondrously unpretentious 8...</td>\n",
       "      <td>-0.024842</td>\n",
       "      <td>0.459818</td>\n",
       "      <td>0</td>\n",
       "      <td>superbly trashy and wondrously unpretentious 8...</td>\n",
       "      <td>[superbly, trashy, and, wondrously, unpretenti...</td>\n",
       "      <td>[superbly, trashy, wondrously, unpretentious, ...</td>\n",
       "      <td>[superbl, trashi, wondrous, unpretenti, 80, ex...</td>\n",
       "    </tr>\n",
       "  </tbody>\n",
       "</table>\n",
       "</div>"
      ],
      "text/plain": [
       "       id  sentiment                                             review  \\\n",
       "0  5814_8          1  With all this stuff going down at the moment w...   \n",
       "1  2381_9          1  \\The Classic War of the Worlds\\\" by Timothy Hi...   \n",
       "2  7759_3          0  The film starts with a manager (Nicholas Bell)...   \n",
       "3  3630_4          0  It must be assumed that those who praised this...   \n",
       "4  9495_8          1  Superbly trashy and wondrously unpretentious 8...   \n",
       "\n",
       "   polarity  subjectivity  textblob_score  \\\n",
       "0  0.001277      0.606746               1   \n",
       "1  0.256349      0.531111               1   \n",
       "2 -0.053941      0.562933               0   \n",
       "3  0.134753      0.492901               1   \n",
       "4 -0.024842      0.459818               0   \n",
       "\n",
       "                                        review_clean  \\\n",
       "0  with all this stuff going down at the moment w...   \n",
       "1  the classic war of the worlds by timothy hines...   \n",
       "2  the film starts with a manager nicholas bell g...   \n",
       "3  it must be assumed that those who praised this...   \n",
       "4  superbly trashy and wondrously unpretentious 8...   \n",
       "\n",
       "                                        review_token  \\\n",
       "0  [with, all, this, stuff, going, down, at, the,...   \n",
       "1  [the, classic, war, of, the, worlds, by, timot...   \n",
       "2  [the, film, starts, with, a, manager, nicholas...   \n",
       "3  [it, must, be, assumed, that, those, who, prai...   \n",
       "4  [superbly, trashy, and, wondrously, unpretenti...   \n",
       "\n",
       "                                         review_stop  \\\n",
       "0  [stuff, going, moment, mj, ive, started, liste...   \n",
       "1  [classic, war, worlds, timothy, hines, enterta...   \n",
       "2  [film, starts, manager, nicholas, bell, giving...   \n",
       "3  [must, assumed, praised, film, greatest, filme...   \n",
       "4  [superbly, trashy, wondrously, unpretentious, ...   \n",
       "\n",
       "                                      review_stemmed  \n",
       "0  [stuff, go, moment, mj, ive, start, listen, mu...  \n",
       "1  [classic, war, world, timothi, hine, entertain...  \n",
       "2  [film, start, manag, nichola, bell, give, welc...  \n",
       "3  [must, assum, prais, film, greatest, film, ope...  \n",
       "4  [superbl, trashi, wondrous, unpretenti, 80, ex...  "
      ]
     },
     "execution_count": 13,
     "metadata": {},
     "output_type": "execute_result"
    }
   ],
   "source": [
    "# Apply stemmer to the above tokenized column as follows\n",
    "movie_df['review_stemmed']=movie_df['review_stop'].apply(lambda x : [porter_stemmer.stem(y) for y in x])\n",
    "movie_df.head()"
   ]
  },
  {
   "cell_type": "code",
   "execution_count": 14,
   "id": "08983b29",
   "metadata": {},
   "outputs": [
    {
     "data": {
      "text/html": [
       "<div>\n",
       "<style scoped>\n",
       "    .dataframe tbody tr th:only-of-type {\n",
       "        vertical-align: middle;\n",
       "    }\n",
       "\n",
       "    .dataframe tbody tr th {\n",
       "        vertical-align: top;\n",
       "    }\n",
       "\n",
       "    .dataframe thead th {\n",
       "        text-align: right;\n",
       "    }\n",
       "</style>\n",
       "<table border=\"1\" class=\"dataframe\">\n",
       "  <thead>\n",
       "    <tr style=\"text-align: right;\">\n",
       "      <th></th>\n",
       "      <th>id</th>\n",
       "      <th>sentiment</th>\n",
       "      <th>review</th>\n",
       "      <th>polarity</th>\n",
       "      <th>subjectivity</th>\n",
       "      <th>textblob_score</th>\n",
       "      <th>review_clean</th>\n",
       "      <th>review_token</th>\n",
       "      <th>review_stop</th>\n",
       "      <th>review_stemmed</th>\n",
       "      <th>review_output</th>\n",
       "    </tr>\n",
       "  </thead>\n",
       "  <tbody>\n",
       "    <tr>\n",
       "      <th>0</th>\n",
       "      <td>5814_8</td>\n",
       "      <td>1</td>\n",
       "      <td>With all this stuff going down at the moment w...</td>\n",
       "      <td>0.001277</td>\n",
       "      <td>0.606746</td>\n",
       "      <td>1</td>\n",
       "      <td>with all this stuff going down at the moment w...</td>\n",
       "      <td>[with, all, this, stuff, going, down, at, the,...</td>\n",
       "      <td>[stuff, going, moment, mj, ive, started, liste...</td>\n",
       "      <td>[stuff, go, moment, mj, ive, start, listen, mu...</td>\n",
       "      <td>stuff go moment mj ive start listen music watc...</td>\n",
       "    </tr>\n",
       "    <tr>\n",
       "      <th>1</th>\n",
       "      <td>2381_9</td>\n",
       "      <td>1</td>\n",
       "      <td>\\The Classic War of the Worlds\\\" by Timothy Hi...</td>\n",
       "      <td>0.256349</td>\n",
       "      <td>0.531111</td>\n",
       "      <td>1</td>\n",
       "      <td>the classic war of the worlds by timothy hines...</td>\n",
       "      <td>[the, classic, war, of, the, worlds, by, timot...</td>\n",
       "      <td>[classic, war, worlds, timothy, hines, enterta...</td>\n",
       "      <td>[classic, war, world, timothi, hine, entertain...</td>\n",
       "      <td>classic war world timothi hine entertain film ...</td>\n",
       "    </tr>\n",
       "    <tr>\n",
       "      <th>2</th>\n",
       "      <td>7759_3</td>\n",
       "      <td>0</td>\n",
       "      <td>The film starts with a manager (Nicholas Bell)...</td>\n",
       "      <td>-0.053941</td>\n",
       "      <td>0.562933</td>\n",
       "      <td>0</td>\n",
       "      <td>the film starts with a manager nicholas bell g...</td>\n",
       "      <td>[the, film, starts, with, a, manager, nicholas...</td>\n",
       "      <td>[film, starts, manager, nicholas, bell, giving...</td>\n",
       "      <td>[film, start, manag, nichola, bell, give, welc...</td>\n",
       "      <td>film start manag nichola bell give welcom inve...</td>\n",
       "    </tr>\n",
       "    <tr>\n",
       "      <th>3</th>\n",
       "      <td>3630_4</td>\n",
       "      <td>0</td>\n",
       "      <td>It must be assumed that those who praised this...</td>\n",
       "      <td>0.134753</td>\n",
       "      <td>0.492901</td>\n",
       "      <td>1</td>\n",
       "      <td>it must be assumed that those who praised this...</td>\n",
       "      <td>[it, must, be, assumed, that, those, who, prai...</td>\n",
       "      <td>[must, assumed, praised, film, greatest, filme...</td>\n",
       "      <td>[must, assum, prais, film, greatest, film, ope...</td>\n",
       "      <td>must assum prais film greatest film opera ever...</td>\n",
       "    </tr>\n",
       "    <tr>\n",
       "      <th>4</th>\n",
       "      <td>9495_8</td>\n",
       "      <td>1</td>\n",
       "      <td>Superbly trashy and wondrously unpretentious 8...</td>\n",
       "      <td>-0.024842</td>\n",
       "      <td>0.459818</td>\n",
       "      <td>0</td>\n",
       "      <td>superbly trashy and wondrously unpretentious 8...</td>\n",
       "      <td>[superbly, trashy, and, wondrously, unpretenti...</td>\n",
       "      <td>[superbly, trashy, wondrously, unpretentious, ...</td>\n",
       "      <td>[superbl, trashi, wondrous, unpretenti, 80, ex...</td>\n",
       "      <td>superbl trashi wondrous unpretenti 80 exploit ...</td>\n",
       "    </tr>\n",
       "  </tbody>\n",
       "</table>\n",
       "</div>"
      ],
      "text/plain": [
       "       id  sentiment                                             review  \\\n",
       "0  5814_8          1  With all this stuff going down at the moment w...   \n",
       "1  2381_9          1  \\The Classic War of the Worlds\\\" by Timothy Hi...   \n",
       "2  7759_3          0  The film starts with a manager (Nicholas Bell)...   \n",
       "3  3630_4          0  It must be assumed that those who praised this...   \n",
       "4  9495_8          1  Superbly trashy and wondrously unpretentious 8...   \n",
       "\n",
       "   polarity  subjectivity  textblob_score  \\\n",
       "0  0.001277      0.606746               1   \n",
       "1  0.256349      0.531111               1   \n",
       "2 -0.053941      0.562933               0   \n",
       "3  0.134753      0.492901               1   \n",
       "4 -0.024842      0.459818               0   \n",
       "\n",
       "                                        review_clean  \\\n",
       "0  with all this stuff going down at the moment w...   \n",
       "1  the classic war of the worlds by timothy hines...   \n",
       "2  the film starts with a manager nicholas bell g...   \n",
       "3  it must be assumed that those who praised this...   \n",
       "4  superbly trashy and wondrously unpretentious 8...   \n",
       "\n",
       "                                        review_token  \\\n",
       "0  [with, all, this, stuff, going, down, at, the,...   \n",
       "1  [the, classic, war, of, the, worlds, by, timot...   \n",
       "2  [the, film, starts, with, a, manager, nicholas...   \n",
       "3  [it, must, be, assumed, that, those, who, prai...   \n",
       "4  [superbly, trashy, and, wondrously, unpretenti...   \n",
       "\n",
       "                                         review_stop  \\\n",
       "0  [stuff, going, moment, mj, ive, started, liste...   \n",
       "1  [classic, war, worlds, timothy, hines, enterta...   \n",
       "2  [film, starts, manager, nicholas, bell, giving...   \n",
       "3  [must, assumed, praised, film, greatest, filme...   \n",
       "4  [superbly, trashy, wondrously, unpretentious, ...   \n",
       "\n",
       "                                      review_stemmed  \\\n",
       "0  [stuff, go, moment, mj, ive, start, listen, mu...   \n",
       "1  [classic, war, world, timothi, hine, entertain...   \n",
       "2  [film, start, manag, nichola, bell, give, welc...   \n",
       "3  [must, assum, prais, film, greatest, film, ope...   \n",
       "4  [superbl, trashi, wondrous, unpretenti, 80, ex...   \n",
       "\n",
       "                                       review_output  \n",
       "0  stuff go moment mj ive start listen music watc...  \n",
       "1  classic war world timothi hine entertain film ...  \n",
       "2  film start manag nichola bell give welcom inve...  \n",
       "3  must assum prais film greatest film opera ever...  \n",
       "4  superbl trashi wondrous unpretenti 80 exploit ...  "
      ]
     },
     "execution_count": 14,
     "metadata": {},
     "output_type": "execute_result"
    }
   ],
   "source": [
    "## Creating a review_final and join all the words present in review_stemmed\n",
    "## Printing few values present in the dataframe using head command\n",
    "movie_df['review_output'] = movie_df['review_stemmed'].apply(lambda txt: ' '.join(txt))\n",
    "movie_df.head()"
   ]
  },
  {
   "cell_type": "code",
   "execution_count": 15,
   "id": "29754ae9",
   "metadata": {},
   "outputs": [
    {
     "data": {
      "text/plain": [
       "(25000, 11)"
      ]
     },
     "execution_count": 15,
     "metadata": {},
     "output_type": "execute_result"
    }
   ],
   "source": [
    "## Calculating the shape of the dataframe\n",
    "movie_df.shape"
   ]
  },
  {
   "cell_type": "code",
   "execution_count": 16,
   "id": "97aa7107",
   "metadata": {},
   "outputs": [
    {
     "data": {
      "text/plain": [
       "id                 object\n",
       "sentiment           int64\n",
       "review             object\n",
       "polarity          float64\n",
       "subjectivity      float64\n",
       "textblob_score      int64\n",
       "review_clean       object\n",
       "review_token       object\n",
       "review_stop        object\n",
       "review_stemmed     object\n",
       "review_output      object\n",
       "dtype: object"
      ]
     },
     "execution_count": 16,
     "metadata": {},
     "output_type": "execute_result"
    }
   ],
   "source": [
    "## Displaying the datatypes for each of the columns\n",
    "movie_df.dtypes"
   ]
  },
  {
   "cell_type": "markdown",
   "id": "08ab56f4",
   "metadata": {},
   "source": [
    "#### 2. Split this into a training and test set."
   ]
  },
  {
   "cell_type": "code",
   "execution_count": 17,
   "id": "af7cd1a2",
   "metadata": {},
   "outputs": [],
   "source": [
    "## Importing the required libraries for splitting the data\n",
    "from sklearn.model_selection import train_test_split #used to split data into training/test sets\n",
    "from sklearn.metrics import plot_confusion_matrix\n",
    "import warnings\n",
    "warnings.filterwarnings(\"ignore\")"
   ]
  },
  {
   "cell_type": "code",
   "execution_count": 18,
   "id": "d7f88a85",
   "metadata": {},
   "outputs": [],
   "source": [
    "## Split the data into a training and test set\n",
    "X = movie_df['review_output']\n",
    "\n",
    "## Get the target\n",
    "y = movie_df['sentiment']\n",
    "\n",
    "## Split the data into training and test sets (80% for Training and 20% for Test)\n",
    "X_train, X_test, y_train, y_test = train_test_split(X, y, test_size = 0.2)\n",
    "\n",
    "## Reset the indices in the training and test sets\n",
    "X_train = X_train.reset_index(drop = True) #drop + True drops the previous index\n",
    "X_test = X_test.reset_index(drop = True)\n",
    "y_train = y_train.reset_index(drop = True)\n",
    "y_test = y_test.reset_index(drop = True)"
   ]
  },
  {
   "cell_type": "code",
   "execution_count": 19,
   "id": "f42dcb28",
   "metadata": {},
   "outputs": [
    {
     "name": "stdout",
     "output_type": "stream",
     "text": [
      "(20000,)\n",
      "(5000,)\n",
      "0    10004\n",
      "1     9996\n",
      "Name: sentiment, dtype: int64\n",
      "1    2504\n",
      "0    2496\n",
      "Name: sentiment, dtype: int64\n"
     ]
    }
   ],
   "source": [
    "## Show the sizes of the training and test sets\n",
    "print(X_train.shape)\n",
    "print(X_test.shape)\n",
    "\n",
    "## Displaying the number of sentiments in training and test sets\n",
    "print(y_train.value_counts())\n",
    "print(y_test.value_counts())"
   ]
  },
  {
   "cell_type": "code",
   "execution_count": 20,
   "id": "3a04a8cf",
   "metadata": {},
   "outputs": [
    {
     "name": "stdout",
     "output_type": "stream",
     "text": [
      "0\n",
      "0\n"
     ]
    }
   ],
   "source": [
    "## Check if missing data is present in in the training and test sets\n",
    "print(X_train.isna().sum())\n",
    "print(X_test.isna().sum())"
   ]
  },
  {
   "cell_type": "markdown",
   "id": "f8ee6029",
   "metadata": {},
   "source": [
    "There is no missing data in training and test data"
   ]
  },
  {
   "cell_type": "markdown",
   "id": "c59ff0ba",
   "metadata": {},
   "source": [
    "##### 3. Fit and apply the tf-idf vectorization to the training set."
   ]
  },
  {
   "cell_type": "code",
   "execution_count": 21,
   "id": "f73f257f",
   "metadata": {},
   "outputs": [],
   "source": [
    "## Importing the library for tf-idf vectorization\n",
    "from sklearn.feature_extraction.text import TfidfVectorizer"
   ]
  },
  {
   "cell_type": "code",
   "execution_count": 22,
   "id": "2367ef0d",
   "metadata": {},
   "outputs": [],
   "source": [
    "# Create the tf-idf feature matrix\n",
    "tfidfs = TfidfVectorizer()\n",
    "x_train_vector = tfidfs.fit_transform(X_train)"
   ]
  },
  {
   "cell_type": "code",
   "execution_count": 23,
   "id": "400a2768",
   "metadata": {},
   "outputs": [
    {
     "data": {
      "text/plain": [
       "(20000, 80996)"
      ]
     },
     "execution_count": 23,
     "metadata": {},
     "output_type": "execute_result"
    }
   ],
   "source": [
    "## Displaying the the shape of the transformed X_train_vector\n",
    "x_train_vector.shape"
   ]
  },
  {
   "cell_type": "markdown",
   "id": "2747cdb2",
   "metadata": {},
   "source": [
    "#### 4. Apply but DO NOT FIT the tf-idf vectorization to the test set (Why?)."
   ]
  },
  {
   "cell_type": "code",
   "execution_count": 24,
   "id": "f57783b1",
   "metadata": {},
   "outputs": [],
   "source": [
    "## Only apply tf-ifd vectorization to the test set\n",
    "x_test_vector = tfidfs.transform(X_test)"
   ]
  },
  {
   "cell_type": "markdown",
   "id": "0c38b088",
   "metadata": {},
   "source": [
    "Reason:  You wouldn't want to fit the test set to the model because you'd have test data leaking into the model. "
   ]
  },
  {
   "cell_type": "markdown",
   "id": "6bbfe512",
   "metadata": {},
   "source": [
    "#### 5. Train a logistic regression using the training data."
   ]
  },
  {
   "cell_type": "code",
   "execution_count": 25,
   "id": "fecb69b6",
   "metadata": {},
   "outputs": [],
   "source": [
    "## Importing yellowbrick library and logisticregression libraries\n",
    "from sklearn.linear_model import LogisticRegression\n",
    "\n",
    "#import evaluation tools\n",
    "import yellowbrick\n",
    "from yellowbrick.classifier import ConfusionMatrix\n",
    "from yellowbrick.classifier import ClassificationReport\n",
    "from yellowbrick.classifier import ROCAUC"
   ]
  },
  {
   "cell_type": "code",
   "execution_count": 26,
   "id": "498819bb",
   "metadata": {},
   "outputs": [
    {
     "data": {
      "text/plain": [
       "LogisticRegression(max_iter=500)"
      ]
     },
     "execution_count": 26,
     "metadata": {},
     "output_type": "execute_result"
    }
   ],
   "source": [
    "## Instantiate the logistic regression model \n",
    "logreg_model = LogisticRegression(max_iter = 500)\n",
    "\n",
    "## Fit the model to the training set\n",
    "logreg_model.fit(x_train_vector, y_train)"
   ]
  },
  {
   "cell_type": "markdown",
   "id": "4771b568",
   "metadata": {},
   "source": [
    "#### 6&7. Find the model accuracy on test set and create a confusion matrix for the test set predictions."
   ]
  },
  {
   "cell_type": "code",
   "execution_count": 27,
   "id": "4fd123c2",
   "metadata": {},
   "outputs": [
    {
     "name": "stdout",
     "output_type": "stream",
     "text": [
      "Model Accuracy: 88.36%\n"
     ]
    },
    {
     "data": {
      "image/png": "[encoded data removed]",
      "text/plain": [
       "<Figure size 576x396 with 1 Axes>"
      ]
     },
     "metadata": {},
     "output_type": "display_data"
    },
    {
     "data": {
      "text/plain": [
       "<AxesSubplot:title={'center':'LogisticRegression Confusion Matrix'}, xlabel='Predicted Class', ylabel='True Class'>"
      ]
     },
     "execution_count": 27,
     "metadata": {},
     "output_type": "execute_result"
    }
   ],
   "source": [
    "## Get model accuracy and create a confusion matrix\n",
    "\n",
    "## create class labels for confusion matrix\n",
    "## classes = ['Negative Review','Positive Review']\n",
    "## Assume that a polarity score greater than or equal to zero is a positive sentiment and less than 0 is a negative sentiment.\n",
    "label_encoder = {0: 'Negative Review', 1: 'Positive Review'}\n",
    "\n",
    "## Initialize the confusion matrix\n",
    "cm = ConfusionMatrix(logreg_model, encoder = label_encoder,  percent=False)\n",
    "\n",
    "## Fit the test set to the confusion matrix\n",
    "cm.fit(x_test_vector, y_test)\n",
    "\n",
    "## Creates the confusion matrix and gets the accuracy\n",
    "mod_acc = 100*cm.score(x_test_vector, y_test)\n",
    "print('Model Accuracy: ', round(mod_acc,2), '%', sep = '')\n",
    "\n",
    "## Change fontsize of the labels in the figure\n",
    "for label in cm.ax.texts:\n",
    "    label.set_size(25)\n",
    "\n",
    "## Display the confusion matrix\n",
    "cm.show()"
   ]
  },
  {
   "cell_type": "markdown",
   "id": "0ac86553",
   "metadata": {},
   "source": [
    "#### 8. Get the precision, recall, and F1-score for the test set predictions"
   ]
  },
  {
   "cell_type": "code",
   "execution_count": 29,
   "id": "51cc7f5b",
   "metadata": {},
   "outputs": [],
   "source": [
    "## Import matlab lib\n",
    "import matplotlib.pyplot as plt"
   ]
  },
  {
   "cell_type": "code",
   "execution_count": 30,
   "id": "a2765003",
   "metadata": {},
   "outputs": [
    {
     "data": {
      "image/png": "[encoded data removed]",
      "text/plain": [
       "<Figure size 1080x504 with 2 Axes>"
      ]
     },
     "metadata": {},
     "output_type": "display_data"
    },
    {
     "data": {
      "text/plain": [
       "<AxesSubplot:title={'center':'LogisticRegression Classification Report'}>"
      ]
     },
     "execution_count": 30,
     "metadata": {},
     "output_type": "execute_result"
    }
   ],
   "source": [
    "## Get precision, recall, and F1-score from the classification report\n",
    "## Set the size of the figure and the font size \n",
    "plt.rcParams['figure.figsize'] = (15, 7)\n",
    "plt.rcParams['font.size'] = 20\n",
    "\n",
    "## Instantiate the classification report\n",
    "class_report = ClassificationReport(logreg_model, encoder = label_encoder)\n",
    "\n",
    "## Fit the classification report to the test data\n",
    "class_report.fit(x_train_vector, y_test)  \n",
    "\n",
    "## Evaluate the model on the test data\n",
    "class_report.score(x_test_vector, y_test)  \n",
    "class_report.show()"
   ]
  },
  {
   "cell_type": "markdown",
   "id": "7d8d5e36",
   "metadata": {},
   "source": [
    "#### 9. Create a ROC curve for the test set."
   ]
  },
  {
   "cell_type": "code",
   "execution_count": 31,
   "id": "ba08aea8",
   "metadata": {},
   "outputs": [
    {
     "data": {
      "image/png": "[encoded data removed]",
      "text/plain": [
       "<Figure size 1080x504 with 1 Axes>"
      ]
     },
     "metadata": {},
     "output_type": "display_data"
    },
    {
     "data": {
      "text/plain": [
       "<AxesSubplot:title={'center':'ROC Curves for LogisticRegression'}, xlabel='False Positive Rate', ylabel='True Positive Rate'>"
      ]
     },
     "execution_count": 31,
     "metadata": {},
     "output_type": "execute_result"
    }
   ],
   "source": [
    "## ROC and AUC\n",
    "## Instantiate the visualizer\n",
    "roc_curve = ROCAUC(logreg_model, encoder = label_encoder, solver = 'liblinear')\n",
    "\n",
    "## Fit the ROC curve to the test data\n",
    "roc_curve.fit(x_test_vector, y_test)\n",
    "\n",
    "## Evaluate the model on the test data\n",
    "roc_curve.score(x_test_vector, y_test)  \n",
    "roc_curve.show()"
   ]
  },
  {
   "cell_type": "markdown",
   "id": "62c95550",
   "metadata": {},
   "source": [
    "#### 10. Pick another classification model you learned about this week and repeat steps (5) – (9)."
   ]
  },
  {
   "cell_type": "markdown",
   "id": "38ff29bb",
   "metadata": {},
   "source": [
    "I have chosen <b>Random Forest</b> classification model"
   ]
  },
  {
   "cell_type": "code",
   "execution_count": 32,
   "id": "102f22fb",
   "metadata": {},
   "outputs": [],
   "source": [
    "## Import Random Forest regression model\n",
    "from sklearn.ensemble import RandomForestClassifier\n",
    "\n",
    "## Instantiate the Random Forest regression model \n",
    "rfm = RandomForestClassifier(n_estimators=70, oob_score=True, n_jobs=-1, random_state=101, max_features=None, min_samples_leaf=30)"
   ]
  },
  {
   "cell_type": "markdown",
   "id": "edfb3df8",
   "metadata": {},
   "source": [
    "##### i. Train a classification regression model using the training data"
   ]
  },
  {
   "cell_type": "code",
   "execution_count": 33,
   "id": "ccaeeea7",
   "metadata": {},
   "outputs": [
    {
     "data": {
      "text/plain": [
       "RandomForestClassifier(max_features=None, min_samples_leaf=30, n_estimators=70,\n",
       "                       n_jobs=-1, oob_score=True, random_state=101)"
      ]
     },
     "execution_count": 33,
     "metadata": {},
     "output_type": "execute_result"
    }
   ],
   "source": [
    "## Fit the model to the training set\n",
    "rfm.fit(x_train_vector, y_train)"
   ]
  },
  {
   "cell_type": "markdown",
   "id": "7f3add76",
   "metadata": {},
   "source": [
    "##### ii. Find the model accuracy on test set and create a confusion matrix for the test set predictions."
   ]
  },
  {
   "cell_type": "code",
   "execution_count": 34,
   "id": "ecf4efc2",
   "metadata": {},
   "outputs": [
    {
     "name": "stdout",
     "output_type": "stream",
     "text": [
      "Model Accuracy: 77.26%\n"
     ]
    },
    {
     "data": {
      "image/png": "[encoded data removed]",
      "text/plain": [
       "<Figure size 1080x504 with 1 Axes>"
      ]
     },
     "metadata": {},
     "output_type": "display_data"
    },
    {
     "data": {
      "text/plain": [
       "<AxesSubplot:title={'center':'RandomForestClassifier Confusion Matrix'}, xlabel='Predicted Class', ylabel='True Class'>"
      ]
     },
     "execution_count": 34,
     "metadata": {},
     "output_type": "execute_result"
    }
   ],
   "source": [
    "#get model accuracy and create a confusion matrix\n",
    "#create class labels for confusion matrix\n",
    "#classes = ['Negative Review','Positive Review']\n",
    "# Assume that a polarity score greater than or equal to zero is a positive sentiment and less than 0 is a negative sentiment.\n",
    "label_encoder = {0: 'Negative Review', 1: 'Positive Review'}\n",
    "\n",
    "#initialize the confusion matrix\n",
    "cm = ConfusionMatrix(rfm, encoder = label_encoder,  percent=False) #update model to rfm\n",
    "\n",
    "#fit the test set to the confusion matrix\n",
    "cm.fit(x_test_vector, y_test)\n",
    "\n",
    "#creates the confusion matrix and gets the accuracy\n",
    "mod_acc = 100*cm.score(x_test_vector, y_test)\n",
    "print('Model Accuracy: ', round(mod_acc,2), '%', sep = '')\n",
    "\n",
    "#change fontsize of the labels in the figure\n",
    "for label in cm.ax.texts:\n",
    "    label.set_size(25)\n",
    "\n",
    "#display the confusion matrix\n",
    "cm.show()"
   ]
  },
  {
   "cell_type": "markdown",
   "id": "b45d3646",
   "metadata": {},
   "source": [
    "##### iii. Get the precision, recall, and F1-score for the test set predictions."
   ]
  },
  {
   "cell_type": "code",
   "execution_count": 35,
   "id": "d75e9a4d",
   "metadata": {},
   "outputs": [
    {
     "data": {
      "image/png": "[encoded data removed]",
      "text/plain": [
       "<Figure size 1080x504 with 2 Axes>"
      ]
     },
     "metadata": {},
     "output_type": "display_data"
    },
    {
     "data": {
      "text/plain": [
       "<AxesSubplot:title={'center':'RandomForestClassifier Classification Report'}>"
      ]
     },
     "execution_count": 35,
     "metadata": {},
     "output_type": "execute_result"
    }
   ],
   "source": [
    "##get precision, recall, and F1-score from the classification report\n",
    "##set the size of the figure and the font size \n",
    "plt.rcParams['figure.figsize'] = (15, 7)\n",
    "plt.rcParams['font.size'] = 20\n",
    "\n",
    "##instantiate the classification report\n",
    "class_report = ClassificationReport(rfm, encoder = label_encoder) #update model to rfm\n",
    "\n",
    "##fit the classification report to the test data\n",
    "class_report.fit(x_train_vector, y_test)  \n",
    "\n",
    "##evaluate the model on the test data\n",
    "class_report.score(x_test_vector, y_test)  \n",
    "class_report.show()"
   ]
  },
  {
   "cell_type": "markdown",
   "id": "62d35a41",
   "metadata": {},
   "source": [
    "##### iv. Create a ROC curve for the test set."
   ]
  },
  {
   "cell_type": "code",
   "execution_count": 36,
   "id": "3776eb98",
   "metadata": {},
   "outputs": [
    {
     "data": {
      "image/png": "[encoded data removed]",
      "text/plain": [
       "<Figure size 1080x504 with 1 Axes>"
      ]
     },
     "metadata": {},
     "output_type": "display_data"
    },
    {
     "data": {
      "text/plain": [
       "<AxesSubplot:title={'center':'ROC Curves for RandomForestClassifier'}, xlabel='False Positive Rate', ylabel='True Positive Rate'>"
      ]
     },
     "execution_count": 36,
     "metadata": {},
     "output_type": "execute_result"
    }
   ],
   "source": [
    "# ROC and AUC\n",
    "#Instantiate the visualizer\n",
    "roc_curve = ROCAUC(rfm, encoder = label_encoder, solver = 'liblinear')  #update model to rfm\n",
    "\n",
    "#fit the ROC curve to the test data\n",
    "roc_curve.fit(x_test_vector, y_test)\n",
    "\n",
    "#evaluate the model on the test data\n",
    "roc_curve.score(x_test_vector, y_test)  \n",
    "roc_curve.show()"
   ]
  },
  {
   "cell_type": "code",
   "execution_count": null,
   "id": "acf3dd58",
   "metadata": {},
   "outputs": [],
   "source": []
  }
 ],
 "metadata": {
  "kernelspec": {
   "display_name": "Python 3",
   "language": "python",
   "name": "python3"
  },
  "language_info": {
   "codemirror_mode": {
    "name": "ipython",
    "version": 3
   },
   "file_extension": ".py",
   "mimetype": "text/x-python",
   "name": "python",
   "nbconvert_exporter": "python",
   "pygments_lexer": "ipython3",
   "version": "3.8.8"
  }
 },
 "nbformat": 4,
 "nbformat_minor": 5
}
